{
  "nbformat": 4,
  "nbformat_minor": 0,
  "metadata": {
    "colab": {
      "provenance": [],
      "include_colab_link": true
    },
    "kernelspec": {
      "name": "python3",
      "display_name": "Python 3"
    },
    "language_info": {
      "name": "python"
    },
    "accelerator": "GPU",
    "gpuClass": "standard",
    "widgets": {
      "application/vnd.jupyter.widget-state+json": {
        "386e4685d563442db305d71f578a2dc3": {
          "model_module": "@jupyter-widgets/controls",
          "model_name": "HBoxModel",
          "model_module_version": "1.5.0",
          "state": {
            "_dom_classes": [],
            "_model_module": "@jupyter-widgets/controls",
            "_model_module_version": "1.5.0",
            "_model_name": "HBoxModel",
            "_view_count": null,
            "_view_module": "@jupyter-widgets/controls",
            "_view_module_version": "1.5.0",
            "_view_name": "HBoxView",
            "box_style": "",
            "children": [
              "IPY_MODEL_71a4411425a84e89bdaee8306c4b9da4",
              "IPY_MODEL_64a18eb1e96a4ba5ad4394908a752d4a",
              "IPY_MODEL_2bfc42b4c64f4a719b5c2b5a807c4449"
            ],
            "layout": "IPY_MODEL_b7ce7b850c4644c389e6794200afded1"
          }
        },
        "71a4411425a84e89bdaee8306c4b9da4": {
          "model_module": "@jupyter-widgets/controls",
          "model_name": "HTMLModel",
          "model_module_version": "1.5.0",
          "state": {
            "_dom_classes": [],
            "_model_module": "@jupyter-widgets/controls",
            "_model_module_version": "1.5.0",
            "_model_name": "HTMLModel",
            "_view_count": null,
            "_view_module": "@jupyter-widgets/controls",
            "_view_module_version": "1.5.0",
            "_view_name": "HTMLView",
            "description": "",
            "description_tooltip": null,
            "layout": "IPY_MODEL_d7963c4eabc541179c9306670bf1c030",
            "placeholder": "​",
            "style": "IPY_MODEL_9edbfc87f12e4c68b33fd79aea3f2791",
            "value": "100%"
          }
        },
        "64a18eb1e96a4ba5ad4394908a752d4a": {
          "model_module": "@jupyter-widgets/controls",
          "model_name": "FloatProgressModel",
          "model_module_version": "1.5.0",
          "state": {
            "_dom_classes": [],
            "_model_module": "@jupyter-widgets/controls",
            "_model_module_version": "1.5.0",
            "_model_name": "FloatProgressModel",
            "_view_count": null,
            "_view_module": "@jupyter-widgets/controls",
            "_view_module_version": "1.5.0",
            "_view_name": "ProgressView",
            "bar_style": "success",
            "description": "",
            "description_tooltip": null,
            "layout": "IPY_MODEL_699b2ffd9b674f9b8793da90d93804d2",
            "max": 182040794,
            "min": 0,
            "orientation": "horizontal",
            "style": "IPY_MODEL_44225aa7673f44ffb96c3f97237304f1",
            "value": 182040794
          }
        },
        "2bfc42b4c64f4a719b5c2b5a807c4449": {
          "model_module": "@jupyter-widgets/controls",
          "model_name": "HTMLModel",
          "model_module_version": "1.5.0",
          "state": {
            "_dom_classes": [],
            "_model_module": "@jupyter-widgets/controls",
            "_model_module_version": "1.5.0",
            "_model_name": "HTMLModel",
            "_view_count": null,
            "_view_module": "@jupyter-widgets/controls",
            "_view_module_version": "1.5.0",
            "_view_name": "HTMLView",
            "description": "",
            "description_tooltip": null,
            "layout": "IPY_MODEL_e6a36a03a3ed4bf6af420d37bf5dfeb7",
            "placeholder": "​",
            "style": "IPY_MODEL_4b115e974e24447d969e17c4d5ea2900",
            "value": " 182040794/182040794 [00:58&lt;00:00, 4232875.05it/s]"
          }
        },
        "b7ce7b850c4644c389e6794200afded1": {
          "model_module": "@jupyter-widgets/base",
          "model_name": "LayoutModel",
          "model_module_version": "1.2.0",
          "state": {
            "_model_module": "@jupyter-widgets/base",
            "_model_module_version": "1.2.0",
            "_model_name": "LayoutModel",
            "_view_count": null,
            "_view_module": "@jupyter-widgets/base",
            "_view_module_version": "1.2.0",
            "_view_name": "LayoutView",
            "align_content": null,
            "align_items": null,
            "align_self": null,
            "border": null,
            "bottom": null,
            "display": null,
            "flex": null,
            "flex_flow": null,
            "grid_area": null,
            "grid_auto_columns": null,
            "grid_auto_flow": null,
            "grid_auto_rows": null,
            "grid_column": null,
            "grid_gap": null,
            "grid_row": null,
            "grid_template_areas": null,
            "grid_template_columns": null,
            "grid_template_rows": null,
            "height": null,
            "justify_content": null,
            "justify_items": null,
            "left": null,
            "margin": null,
            "max_height": null,
            "max_width": null,
            "min_height": null,
            "min_width": null,
            "object_fit": null,
            "object_position": null,
            "order": null,
            "overflow": null,
            "overflow_x": null,
            "overflow_y": null,
            "padding": null,
            "right": null,
            "top": null,
            "visibility": null,
            "width": null
          }
        },
        "d7963c4eabc541179c9306670bf1c030": {
          "model_module": "@jupyter-widgets/base",
          "model_name": "LayoutModel",
          "model_module_version": "1.2.0",
          "state": {
            "_model_module": "@jupyter-widgets/base",
            "_model_module_version": "1.2.0",
            "_model_name": "LayoutModel",
            "_view_count": null,
            "_view_module": "@jupyter-widgets/base",
            "_view_module_version": "1.2.0",
            "_view_name": "LayoutView",
            "align_content": null,
            "align_items": null,
            "align_self": null,
            "border": null,
            "bottom": null,
            "display": null,
            "flex": null,
            "flex_flow": null,
            "grid_area": null,
            "grid_auto_columns": null,
            "grid_auto_flow": null,
            "grid_auto_rows": null,
            "grid_column": null,
            "grid_gap": null,
            "grid_row": null,
            "grid_template_areas": null,
            "grid_template_columns": null,
            "grid_template_rows": null,
            "height": null,
            "justify_content": null,
            "justify_items": null,
            "left": null,
            "margin": null,
            "max_height": null,
            "max_width": null,
            "min_height": null,
            "min_width": null,
            "object_fit": null,
            "object_position": null,
            "order": null,
            "overflow": null,
            "overflow_x": null,
            "overflow_y": null,
            "padding": null,
            "right": null,
            "top": null,
            "visibility": null,
            "width": null
          }
        },
        "9edbfc87f12e4c68b33fd79aea3f2791": {
          "model_module": "@jupyter-widgets/controls",
          "model_name": "DescriptionStyleModel",
          "model_module_version": "1.5.0",
          "state": {
            "_model_module": "@jupyter-widgets/controls",
            "_model_module_version": "1.5.0",
            "_model_name": "DescriptionStyleModel",
            "_view_count": null,
            "_view_module": "@jupyter-widgets/base",
            "_view_module_version": "1.2.0",
            "_view_name": "StyleView",
            "description_width": ""
          }
        },
        "699b2ffd9b674f9b8793da90d93804d2": {
          "model_module": "@jupyter-widgets/base",
          "model_name": "LayoutModel",
          "model_module_version": "1.2.0",
          "state": {
            "_model_module": "@jupyter-widgets/base",
            "_model_module_version": "1.2.0",
            "_model_name": "LayoutModel",
            "_view_count": null,
            "_view_module": "@jupyter-widgets/base",
            "_view_module_version": "1.2.0",
            "_view_name": "LayoutView",
            "align_content": null,
            "align_items": null,
            "align_self": null,
            "border": null,
            "bottom": null,
            "display": null,
            "flex": null,
            "flex_flow": null,
            "grid_area": null,
            "grid_auto_columns": null,
            "grid_auto_flow": null,
            "grid_auto_rows": null,
            "grid_column": null,
            "grid_gap": null,
            "grid_row": null,
            "grid_template_areas": null,
            "grid_template_columns": null,
            "grid_template_rows": null,
            "height": null,
            "justify_content": null,
            "justify_items": null,
            "left": null,
            "margin": null,
            "max_height": null,
            "max_width": null,
            "min_height": null,
            "min_width": null,
            "object_fit": null,
            "object_position": null,
            "order": null,
            "overflow": null,
            "overflow_x": null,
            "overflow_y": null,
            "padding": null,
            "right": null,
            "top": null,
            "visibility": null,
            "width": null
          }
        },
        "44225aa7673f44ffb96c3f97237304f1": {
          "model_module": "@jupyter-widgets/controls",
          "model_name": "ProgressStyleModel",
          "model_module_version": "1.5.0",
          "state": {
            "_model_module": "@jupyter-widgets/controls",
            "_model_module_version": "1.5.0",
            "_model_name": "ProgressStyleModel",
            "_view_count": null,
            "_view_module": "@jupyter-widgets/base",
            "_view_module_version": "1.2.0",
            "_view_name": "StyleView",
            "bar_color": null,
            "description_width": ""
          }
        },
        "e6a36a03a3ed4bf6af420d37bf5dfeb7": {
          "model_module": "@jupyter-widgets/base",
          "model_name": "LayoutModel",
          "model_module_version": "1.2.0",
          "state": {
            "_model_module": "@jupyter-widgets/base",
            "_model_module_version": "1.2.0",
            "_model_name": "LayoutModel",
            "_view_count": null,
            "_view_module": "@jupyter-widgets/base",
            "_view_module_version": "1.2.0",
            "_view_name": "LayoutView",
            "align_content": null,
            "align_items": null,
            "align_self": null,
            "border": null,
            "bottom": null,
            "display": null,
            "flex": null,
            "flex_flow": null,
            "grid_area": null,
            "grid_auto_columns": null,
            "grid_auto_flow": null,
            "grid_auto_rows": null,
            "grid_column": null,
            "grid_gap": null,
            "grid_row": null,
            "grid_template_areas": null,
            "grid_template_columns": null,
            "grid_template_rows": null,
            "height": null,
            "justify_content": null,
            "justify_items": null,
            "left": null,
            "margin": null,
            "max_height": null,
            "max_width": null,
            "min_height": null,
            "min_width": null,
            "object_fit": null,
            "object_position": null,
            "order": null,
            "overflow": null,
            "overflow_x": null,
            "overflow_y": null,
            "padding": null,
            "right": null,
            "top": null,
            "visibility": null,
            "width": null
          }
        },
        "4b115e974e24447d969e17c4d5ea2900": {
          "model_module": "@jupyter-widgets/controls",
          "model_name": "DescriptionStyleModel",
          "model_module_version": "1.5.0",
          "state": {
            "_model_module": "@jupyter-widgets/controls",
            "_model_module_version": "1.5.0",
            "_model_name": "DescriptionStyleModel",
            "_view_count": null,
            "_view_module": "@jupyter-widgets/base",
            "_view_module_version": "1.2.0",
            "_view_name": "StyleView",
            "description_width": ""
          }
        },
        "10cec61e2500402cb63013527eb23d3f": {
          "model_module": "@jupyter-widgets/controls",
          "model_name": "HBoxModel",
          "model_module_version": "1.5.0",
          "state": {
            "_dom_classes": [],
            "_model_module": "@jupyter-widgets/controls",
            "_model_module_version": "1.5.0",
            "_model_name": "HBoxModel",
            "_view_count": null,
            "_view_module": "@jupyter-widgets/controls",
            "_view_module_version": "1.5.0",
            "_view_name": "HBoxView",
            "box_style": "",
            "children": [
              "IPY_MODEL_32eb8287210a463fbb473ae0947df59e",
              "IPY_MODEL_c1a0e047e0f148289b1a8f039d0afcec",
              "IPY_MODEL_77dff1540e914c21a6d6c3b957891496"
            ],
            "layout": "IPY_MODEL_1f58ebb93dac419bad06920d605423b3"
          }
        },
        "32eb8287210a463fbb473ae0947df59e": {
          "model_module": "@jupyter-widgets/controls",
          "model_name": "HTMLModel",
          "model_module_version": "1.5.0",
          "state": {
            "_dom_classes": [],
            "_model_module": "@jupyter-widgets/controls",
            "_model_module_version": "1.5.0",
            "_model_name": "HTMLModel",
            "_view_count": null,
            "_view_module": "@jupyter-widgets/controls",
            "_view_module_version": "1.5.0",
            "_view_name": "HTMLView",
            "description": "",
            "description_tooltip": null,
            "layout": "IPY_MODEL_00da3d5568e74f678638dcc95238584b",
            "placeholder": "​",
            "style": "IPY_MODEL_ef560abe71424d468c4d72b8b0a8efe2",
            "value": "100%"
          }
        },
        "c1a0e047e0f148289b1a8f039d0afcec": {
          "model_module": "@jupyter-widgets/controls",
          "model_name": "FloatProgressModel",
          "model_module_version": "1.5.0",
          "state": {
            "_dom_classes": [],
            "_model_module": "@jupyter-widgets/controls",
            "_model_module_version": "1.5.0",
            "_model_name": "FloatProgressModel",
            "_view_count": null,
            "_view_module": "@jupyter-widgets/controls",
            "_view_module_version": "1.5.0",
            "_view_name": "ProgressView",
            "bar_style": "success",
            "description": "",
            "description_tooltip": null,
            "layout": "IPY_MODEL_56d3f712ddd64dc789cbd5e76bd59030",
            "max": 64275384,
            "min": 0,
            "orientation": "horizontal",
            "style": "IPY_MODEL_3de87d52e08c44c185631e65b59bef30",
            "value": 64275384
          }
        },
        "77dff1540e914c21a6d6c3b957891496": {
          "model_module": "@jupyter-widgets/controls",
          "model_name": "HTMLModel",
          "model_module_version": "1.5.0",
          "state": {
            "_dom_classes": [],
            "_model_module": "@jupyter-widgets/controls",
            "_model_module_version": "1.5.0",
            "_model_name": "HTMLModel",
            "_view_count": null,
            "_view_module": "@jupyter-widgets/controls",
            "_view_module_version": "1.5.0",
            "_view_name": "HTMLView",
            "description": "",
            "description_tooltip": null,
            "layout": "IPY_MODEL_f7cee9c68cad46ea8d5f67bf0b66ef38",
            "placeholder": "​",
            "style": "IPY_MODEL_fd885e839a8b4269a8481c9e5d867cc4",
            "value": " 64275384/64275384 [00:06&lt;00:00, 16214074.02it/s]"
          }
        },
        "1f58ebb93dac419bad06920d605423b3": {
          "model_module": "@jupyter-widgets/base",
          "model_name": "LayoutModel",
          "model_module_version": "1.2.0",
          "state": {
            "_model_module": "@jupyter-widgets/base",
            "_model_module_version": "1.2.0",
            "_model_name": "LayoutModel",
            "_view_count": null,
            "_view_module": "@jupyter-widgets/base",
            "_view_module_version": "1.2.0",
            "_view_name": "LayoutView",
            "align_content": null,
            "align_items": null,
            "align_self": null,
            "border": null,
            "bottom": null,
            "display": null,
            "flex": null,
            "flex_flow": null,
            "grid_area": null,
            "grid_auto_columns": null,
            "grid_auto_flow": null,
            "grid_auto_rows": null,
            "grid_column": null,
            "grid_gap": null,
            "grid_row": null,
            "grid_template_areas": null,
            "grid_template_columns": null,
            "grid_template_rows": null,
            "height": null,
            "justify_content": null,
            "justify_items": null,
            "left": null,
            "margin": null,
            "max_height": null,
            "max_width": null,
            "min_height": null,
            "min_width": null,
            "object_fit": null,
            "object_position": null,
            "order": null,
            "overflow": null,
            "overflow_x": null,
            "overflow_y": null,
            "padding": null,
            "right": null,
            "top": null,
            "visibility": null,
            "width": null
          }
        },
        "00da3d5568e74f678638dcc95238584b": {
          "model_module": "@jupyter-widgets/base",
          "model_name": "LayoutModel",
          "model_module_version": "1.2.0",
          "state": {
            "_model_module": "@jupyter-widgets/base",
            "_model_module_version": "1.2.0",
            "_model_name": "LayoutModel",
            "_view_count": null,
            "_view_module": "@jupyter-widgets/base",
            "_view_module_version": "1.2.0",
            "_view_name": "LayoutView",
            "align_content": null,
            "align_items": null,
            "align_self": null,
            "border": null,
            "bottom": null,
            "display": null,
            "flex": null,
            "flex_flow": null,
            "grid_area": null,
            "grid_auto_columns": null,
            "grid_auto_flow": null,
            "grid_auto_rows": null,
            "grid_column": null,
            "grid_gap": null,
            "grid_row": null,
            "grid_template_areas": null,
            "grid_template_columns": null,
            "grid_template_rows": null,
            "height": null,
            "justify_content": null,
            "justify_items": null,
            "left": null,
            "margin": null,
            "max_height": null,
            "max_width": null,
            "min_height": null,
            "min_width": null,
            "object_fit": null,
            "object_position": null,
            "order": null,
            "overflow": null,
            "overflow_x": null,
            "overflow_y": null,
            "padding": null,
            "right": null,
            "top": null,
            "visibility": null,
            "width": null
          }
        },
        "ef560abe71424d468c4d72b8b0a8efe2": {
          "model_module": "@jupyter-widgets/controls",
          "model_name": "DescriptionStyleModel",
          "model_module_version": "1.5.0",
          "state": {
            "_model_module": "@jupyter-widgets/controls",
            "_model_module_version": "1.5.0",
            "_model_name": "DescriptionStyleModel",
            "_view_count": null,
            "_view_module": "@jupyter-widgets/base",
            "_view_module_version": "1.2.0",
            "_view_name": "StyleView",
            "description_width": ""
          }
        },
        "56d3f712ddd64dc789cbd5e76bd59030": {
          "model_module": "@jupyter-widgets/base",
          "model_name": "LayoutModel",
          "model_module_version": "1.2.0",
          "state": {
            "_model_module": "@jupyter-widgets/base",
            "_model_module_version": "1.2.0",
            "_model_name": "LayoutModel",
            "_view_count": null,
            "_view_module": "@jupyter-widgets/base",
            "_view_module_version": "1.2.0",
            "_view_name": "LayoutView",
            "align_content": null,
            "align_items": null,
            "align_self": null,
            "border": null,
            "bottom": null,
            "display": null,
            "flex": null,
            "flex_flow": null,
            "grid_area": null,
            "grid_auto_columns": null,
            "grid_auto_flow": null,
            "grid_auto_rows": null,
            "grid_column": null,
            "grid_gap": null,
            "grid_row": null,
            "grid_template_areas": null,
            "grid_template_columns": null,
            "grid_template_rows": null,
            "height": null,
            "justify_content": null,
            "justify_items": null,
            "left": null,
            "margin": null,
            "max_height": null,
            "max_width": null,
            "min_height": null,
            "min_width": null,
            "object_fit": null,
            "object_position": null,
            "order": null,
            "overflow": null,
            "overflow_x": null,
            "overflow_y": null,
            "padding": null,
            "right": null,
            "top": null,
            "visibility": null,
            "width": null
          }
        },
        "3de87d52e08c44c185631e65b59bef30": {
          "model_module": "@jupyter-widgets/controls",
          "model_name": "ProgressStyleModel",
          "model_module_version": "1.5.0",
          "state": {
            "_model_module": "@jupyter-widgets/controls",
            "_model_module_version": "1.5.0",
            "_model_name": "ProgressStyleModel",
            "_view_count": null,
            "_view_module": "@jupyter-widgets/base",
            "_view_module_version": "1.2.0",
            "_view_name": "StyleView",
            "bar_color": null,
            "description_width": ""
          }
        },
        "f7cee9c68cad46ea8d5f67bf0b66ef38": {
          "model_module": "@jupyter-widgets/base",
          "model_name": "LayoutModel",
          "model_module_version": "1.2.0",
          "state": {
            "_model_module": "@jupyter-widgets/base",
            "_model_module_version": "1.2.0",
            "_model_name": "LayoutModel",
            "_view_count": null,
            "_view_module": "@jupyter-widgets/base",
            "_view_module_version": "1.2.0",
            "_view_name": "LayoutView",
            "align_content": null,
            "align_items": null,
            "align_self": null,
            "border": null,
            "bottom": null,
            "display": null,
            "flex": null,
            "flex_flow": null,
            "grid_area": null,
            "grid_auto_columns": null,
            "grid_auto_flow": null,
            "grid_auto_rows": null,
            "grid_column": null,
            "grid_gap": null,
            "grid_row": null,
            "grid_template_areas": null,
            "grid_template_columns": null,
            "grid_template_rows": null,
            "height": null,
            "justify_content": null,
            "justify_items": null,
            "left": null,
            "margin": null,
            "max_height": null,
            "max_width": null,
            "min_height": null,
            "min_width": null,
            "object_fit": null,
            "object_position": null,
            "order": null,
            "overflow": null,
            "overflow_x": null,
            "overflow_y": null,
            "padding": null,
            "right": null,
            "top": null,
            "visibility": null,
            "width": null
          }
        },
        "fd885e839a8b4269a8481c9e5d867cc4": {
          "model_module": "@jupyter-widgets/controls",
          "model_name": "DescriptionStyleModel",
          "model_module_version": "1.5.0",
          "state": {
            "_model_module": "@jupyter-widgets/controls",
            "_model_module_version": "1.5.0",
            "_model_name": "DescriptionStyleModel",
            "_view_count": null,
            "_view_module": "@jupyter-widgets/base",
            "_view_module_version": "1.2.0",
            "_view_name": "StyleView",
            "description_width": ""
          }
        },
        "0a11c1a196834bc684ff8e5fe1f30b2c": {
          "model_module": "@jupyter-widgets/controls",
          "model_name": "HBoxModel",
          "model_module_version": "1.5.0",
          "state": {
            "_dom_classes": [],
            "_model_module": "@jupyter-widgets/controls",
            "_model_module_version": "1.5.0",
            "_model_name": "HBoxModel",
            "_view_count": null,
            "_view_module": "@jupyter-widgets/controls",
            "_view_module_version": "1.5.0",
            "_view_name": "HBoxView",
            "box_style": "",
            "children": [
              "IPY_MODEL_e23d9e6dacbf49a4a2f8a5f5315a75e1",
              "IPY_MODEL_fd7a159d587b449cb8170df13907b2d0",
              "IPY_MODEL_10e868a8aa1e47acb559acfeaa446a55"
            ],
            "layout": "IPY_MODEL_b11dccf5d9b545e3a35dab10580667b8"
          }
        },
        "e23d9e6dacbf49a4a2f8a5f5315a75e1": {
          "model_module": "@jupyter-widgets/controls",
          "model_name": "HTMLModel",
          "model_module_version": "1.5.0",
          "state": {
            "_dom_classes": [],
            "_model_module": "@jupyter-widgets/controls",
            "_model_module_version": "1.5.0",
            "_model_name": "HTMLModel",
            "_view_count": null,
            "_view_module": "@jupyter-widgets/controls",
            "_view_module_version": "1.5.0",
            "_view_name": "HTMLView",
            "description": "",
            "description_tooltip": null,
            "layout": "IPY_MODEL_1c8996c98a354dbcb7b3f6ceb583bc7f",
            "placeholder": "​",
            "style": "IPY_MODEL_eb4b7e04c5ec4d969f49a02b4c993f08",
            "value": "100%"
          }
        },
        "fd7a159d587b449cb8170df13907b2d0": {
          "model_module": "@jupyter-widgets/controls",
          "model_name": "FloatProgressModel",
          "model_module_version": "1.5.0",
          "state": {
            "_dom_classes": [],
            "_model_module": "@jupyter-widgets/controls",
            "_model_module_version": "1.5.0",
            "_model_name": "FloatProgressModel",
            "_view_count": null,
            "_view_module": "@jupyter-widgets/controls",
            "_view_module_version": "1.5.0",
            "_view_name": "ProgressView",
            "bar_style": "success",
            "description": "",
            "description_tooltip": null,
            "layout": "IPY_MODEL_1dfb187df1954a8a9f9bf4f637b2c7d5",
            "max": 46830571,
            "min": 0,
            "orientation": "horizontal",
            "style": "IPY_MODEL_f99fa4909f6a4b7aa98f57b9a083e18e",
            "value": 46830571
          }
        },
        "10e868a8aa1e47acb559acfeaa446a55": {
          "model_module": "@jupyter-widgets/controls",
          "model_name": "HTMLModel",
          "model_module_version": "1.5.0",
          "state": {
            "_dom_classes": [],
            "_model_module": "@jupyter-widgets/controls",
            "_model_module_version": "1.5.0",
            "_model_name": "HTMLModel",
            "_view_count": null,
            "_view_module": "@jupyter-widgets/controls",
            "_view_module_version": "1.5.0",
            "_view_name": "HTMLView",
            "description": "",
            "description_tooltip": null,
            "layout": "IPY_MODEL_4342925d8cfd4e0297f1889e8977cdfd",
            "placeholder": "​",
            "style": "IPY_MODEL_decef6dfe2c149a393b512df1db0576c",
            "value": " 44.7M/44.7M [00:00&lt;00:00, 183MB/s]"
          }
        },
        "b11dccf5d9b545e3a35dab10580667b8": {
          "model_module": "@jupyter-widgets/base",
          "model_name": "LayoutModel",
          "model_module_version": "1.2.0",
          "state": {
            "_model_module": "@jupyter-widgets/base",
            "_model_module_version": "1.2.0",
            "_model_name": "LayoutModel",
            "_view_count": null,
            "_view_module": "@jupyter-widgets/base",
            "_view_module_version": "1.2.0",
            "_view_name": "LayoutView",
            "align_content": null,
            "align_items": null,
            "align_self": null,
            "border": null,
            "bottom": null,
            "display": null,
            "flex": null,
            "flex_flow": null,
            "grid_area": null,
            "grid_auto_columns": null,
            "grid_auto_flow": null,
            "grid_auto_rows": null,
            "grid_column": null,
            "grid_gap": null,
            "grid_row": null,
            "grid_template_areas": null,
            "grid_template_columns": null,
            "grid_template_rows": null,
            "height": null,
            "justify_content": null,
            "justify_items": null,
            "left": null,
            "margin": null,
            "max_height": null,
            "max_width": null,
            "min_height": null,
            "min_width": null,
            "object_fit": null,
            "object_position": null,
            "order": null,
            "overflow": null,
            "overflow_x": null,
            "overflow_y": null,
            "padding": null,
            "right": null,
            "top": null,
            "visibility": null,
            "width": null
          }
        },
        "1c8996c98a354dbcb7b3f6ceb583bc7f": {
          "model_module": "@jupyter-widgets/base",
          "model_name": "LayoutModel",
          "model_module_version": "1.2.0",
          "state": {
            "_model_module": "@jupyter-widgets/base",
            "_model_module_version": "1.2.0",
            "_model_name": "LayoutModel",
            "_view_count": null,
            "_view_module": "@jupyter-widgets/base",
            "_view_module_version": "1.2.0",
            "_view_name": "LayoutView",
            "align_content": null,
            "align_items": null,
            "align_self": null,
            "border": null,
            "bottom": null,
            "display": null,
            "flex": null,
            "flex_flow": null,
            "grid_area": null,
            "grid_auto_columns": null,
            "grid_auto_flow": null,
            "grid_auto_rows": null,
            "grid_column": null,
            "grid_gap": null,
            "grid_row": null,
            "grid_template_areas": null,
            "grid_template_columns": null,
            "grid_template_rows": null,
            "height": null,
            "justify_content": null,
            "justify_items": null,
            "left": null,
            "margin": null,
            "max_height": null,
            "max_width": null,
            "min_height": null,
            "min_width": null,
            "object_fit": null,
            "object_position": null,
            "order": null,
            "overflow": null,
            "overflow_x": null,
            "overflow_y": null,
            "padding": null,
            "right": null,
            "top": null,
            "visibility": null,
            "width": null
          }
        },
        "eb4b7e04c5ec4d969f49a02b4c993f08": {
          "model_module": "@jupyter-widgets/controls",
          "model_name": "DescriptionStyleModel",
          "model_module_version": "1.5.0",
          "state": {
            "_model_module": "@jupyter-widgets/controls",
            "_model_module_version": "1.5.0",
            "_model_name": "DescriptionStyleModel",
            "_view_count": null,
            "_view_module": "@jupyter-widgets/base",
            "_view_module_version": "1.2.0",
            "_view_name": "StyleView",
            "description_width": ""
          }
        },
        "1dfb187df1954a8a9f9bf4f637b2c7d5": {
          "model_module": "@jupyter-widgets/base",
          "model_name": "LayoutModel",
          "model_module_version": "1.2.0",
          "state": {
            "_model_module": "@jupyter-widgets/base",
            "_model_module_version": "1.2.0",
            "_model_name": "LayoutModel",
            "_view_count": null,
            "_view_module": "@jupyter-widgets/base",
            "_view_module_version": "1.2.0",
            "_view_name": "LayoutView",
            "align_content": null,
            "align_items": null,
            "align_self": null,
            "border": null,
            "bottom": null,
            "display": null,
            "flex": null,
            "flex_flow": null,
            "grid_area": null,
            "grid_auto_columns": null,
            "grid_auto_flow": null,
            "grid_auto_rows": null,
            "grid_column": null,
            "grid_gap": null,
            "grid_row": null,
            "grid_template_areas": null,
            "grid_template_columns": null,
            "grid_template_rows": null,
            "height": null,
            "justify_content": null,
            "justify_items": null,
            "left": null,
            "margin": null,
            "max_height": null,
            "max_width": null,
            "min_height": null,
            "min_width": null,
            "object_fit": null,
            "object_position": null,
            "order": null,
            "overflow": null,
            "overflow_x": null,
            "overflow_y": null,
            "padding": null,
            "right": null,
            "top": null,
            "visibility": null,
            "width": null
          }
        },
        "f99fa4909f6a4b7aa98f57b9a083e18e": {
          "model_module": "@jupyter-widgets/controls",
          "model_name": "ProgressStyleModel",
          "model_module_version": "1.5.0",
          "state": {
            "_model_module": "@jupyter-widgets/controls",
            "_model_module_version": "1.5.0",
            "_model_name": "ProgressStyleModel",
            "_view_count": null,
            "_view_module": "@jupyter-widgets/base",
            "_view_module_version": "1.2.0",
            "_view_name": "StyleView",
            "bar_color": null,
            "description_width": ""
          }
        },
        "4342925d8cfd4e0297f1889e8977cdfd": {
          "model_module": "@jupyter-widgets/base",
          "model_name": "LayoutModel",
          "model_module_version": "1.2.0",
          "state": {
            "_model_module": "@jupyter-widgets/base",
            "_model_module_version": "1.2.0",
            "_model_name": "LayoutModel",
            "_view_count": null,
            "_view_module": "@jupyter-widgets/base",
            "_view_module_version": "1.2.0",
            "_view_name": "LayoutView",
            "align_content": null,
            "align_items": null,
            "align_self": null,
            "border": null,
            "bottom": null,
            "display": null,
            "flex": null,
            "flex_flow": null,
            "grid_area": null,
            "grid_auto_columns": null,
            "grid_auto_flow": null,
            "grid_auto_rows": null,
            "grid_column": null,
            "grid_gap": null,
            "grid_row": null,
            "grid_template_areas": null,
            "grid_template_columns": null,
            "grid_template_rows": null,
            "height": null,
            "justify_content": null,
            "justify_items": null,
            "left": null,
            "margin": null,
            "max_height": null,
            "max_width": null,
            "min_height": null,
            "min_width": null,
            "object_fit": null,
            "object_position": null,
            "order": null,
            "overflow": null,
            "overflow_x": null,
            "overflow_y": null,
            "padding": null,
            "right": null,
            "top": null,
            "visibility": null,
            "width": null
          }
        },
        "decef6dfe2c149a393b512df1db0576c": {
          "model_module": "@jupyter-widgets/controls",
          "model_name": "DescriptionStyleModel",
          "model_module_version": "1.5.0",
          "state": {
            "_model_module": "@jupyter-widgets/controls",
            "_model_module_version": "1.5.0",
            "_model_name": "DescriptionStyleModel",
            "_view_count": null,
            "_view_module": "@jupyter-widgets/base",
            "_view_module_version": "1.2.0",
            "_view_name": "StyleView",
            "description_width": ""
          }
        },
        "4ec0251ed11143edac91e1b3ad6c120a": {
          "model_module": "@jupyter-widgets/controls",
          "model_name": "HBoxModel",
          "model_module_version": "1.5.0",
          "state": {
            "_dom_classes": [],
            "_model_module": "@jupyter-widgets/controls",
            "_model_module_version": "1.5.0",
            "_model_name": "HBoxModel",
            "_view_count": null,
            "_view_module": "@jupyter-widgets/controls",
            "_view_module_version": "1.5.0",
            "_view_name": "HBoxView",
            "box_style": "",
            "children": [
              "IPY_MODEL_e968aa1c98bc4c4d8462ad66605570c0",
              "IPY_MODEL_0e6be50b08c743d4bf2ecc7084049f73",
              "IPY_MODEL_2c11ebb539bc42908e285691a1aa979d"
            ],
            "layout": "IPY_MODEL_73a67d70a378424ebbbd5c33a0cf35ff"
          }
        },
        "e968aa1c98bc4c4d8462ad66605570c0": {
          "model_module": "@jupyter-widgets/controls",
          "model_name": "HTMLModel",
          "model_module_version": "1.5.0",
          "state": {
            "_dom_classes": [],
            "_model_module": "@jupyter-widgets/controls",
            "_model_module_version": "1.5.0",
            "_model_name": "HTMLModel",
            "_view_count": null,
            "_view_module": "@jupyter-widgets/controls",
            "_view_module_version": "1.5.0",
            "_view_name": "HTMLView",
            "description": "",
            "description_tooltip": null,
            "layout": "IPY_MODEL_10a17e0f53244ee2bc1276edbb913442",
            "placeholder": "​",
            "style": "IPY_MODEL_1e97e417489a42cab9babf6e6a7fee66",
            "value": "100%"
          }
        },
        "0e6be50b08c743d4bf2ecc7084049f73": {
          "model_module": "@jupyter-widgets/controls",
          "model_name": "FloatProgressModel",
          "model_module_version": "1.5.0",
          "state": {
            "_dom_classes": [],
            "_model_module": "@jupyter-widgets/controls",
            "_model_module_version": "1.5.0",
            "_model_name": "FloatProgressModel",
            "_view_count": null,
            "_view_module": "@jupyter-widgets/controls",
            "_view_module_version": "1.5.0",
            "_view_name": "ProgressView",
            "bar_style": "success",
            "description": "",
            "description_tooltip": null,
            "layout": "IPY_MODEL_4ed858e54fb947f49e6f6275408082ae",
            "max": 9218294,
            "min": 0,
            "orientation": "horizontal",
            "style": "IPY_MODEL_4085fe2660e94e02a2185a31ad881bf5",
            "value": 9218294
          }
        },
        "2c11ebb539bc42908e285691a1aa979d": {
          "model_module": "@jupyter-widgets/controls",
          "model_name": "HTMLModel",
          "model_module_version": "1.5.0",
          "state": {
            "_dom_classes": [],
            "_model_module": "@jupyter-widgets/controls",
            "_model_module_version": "1.5.0",
            "_model_name": "HTMLModel",
            "_view_count": null,
            "_view_module": "@jupyter-widgets/controls",
            "_view_module_version": "1.5.0",
            "_view_name": "HTMLView",
            "description": "",
            "description_tooltip": null,
            "layout": "IPY_MODEL_558513ab041b453a9b13c624edf83650",
            "placeholder": "​",
            "style": "IPY_MODEL_423571ecae7b4649b304d680697fe76c",
            "value": " 8.79M/8.79M [00:00&lt;00:00, 129MB/s]"
          }
        },
        "73a67d70a378424ebbbd5c33a0cf35ff": {
          "model_module": "@jupyter-widgets/base",
          "model_name": "LayoutModel",
          "model_module_version": "1.2.0",
          "state": {
            "_model_module": "@jupyter-widgets/base",
            "_model_module_version": "1.2.0",
            "_model_name": "LayoutModel",
            "_view_count": null,
            "_view_module": "@jupyter-widgets/base",
            "_view_module_version": "1.2.0",
            "_view_name": "LayoutView",
            "align_content": null,
            "align_items": null,
            "align_self": null,
            "border": null,
            "bottom": null,
            "display": null,
            "flex": null,
            "flex_flow": null,
            "grid_area": null,
            "grid_auto_columns": null,
            "grid_auto_flow": null,
            "grid_auto_rows": null,
            "grid_column": null,
            "grid_gap": null,
            "grid_row": null,
            "grid_template_areas": null,
            "grid_template_columns": null,
            "grid_template_rows": null,
            "height": null,
            "justify_content": null,
            "justify_items": null,
            "left": null,
            "margin": null,
            "max_height": null,
            "max_width": null,
            "min_height": null,
            "min_width": null,
            "object_fit": null,
            "object_position": null,
            "order": null,
            "overflow": null,
            "overflow_x": null,
            "overflow_y": null,
            "padding": null,
            "right": null,
            "top": null,
            "visibility": null,
            "width": null
          }
        },
        "10a17e0f53244ee2bc1276edbb913442": {
          "model_module": "@jupyter-widgets/base",
          "model_name": "LayoutModel",
          "model_module_version": "1.2.0",
          "state": {
            "_model_module": "@jupyter-widgets/base",
            "_model_module_version": "1.2.0",
            "_model_name": "LayoutModel",
            "_view_count": null,
            "_view_module": "@jupyter-widgets/base",
            "_view_module_version": "1.2.0",
            "_view_name": "LayoutView",
            "align_content": null,
            "align_items": null,
            "align_self": null,
            "border": null,
            "bottom": null,
            "display": null,
            "flex": null,
            "flex_flow": null,
            "grid_area": null,
            "grid_auto_columns": null,
            "grid_auto_flow": null,
            "grid_auto_rows": null,
            "grid_column": null,
            "grid_gap": null,
            "grid_row": null,
            "grid_template_areas": null,
            "grid_template_columns": null,
            "grid_template_rows": null,
            "height": null,
            "justify_content": null,
            "justify_items": null,
            "left": null,
            "margin": null,
            "max_height": null,
            "max_width": null,
            "min_height": null,
            "min_width": null,
            "object_fit": null,
            "object_position": null,
            "order": null,
            "overflow": null,
            "overflow_x": null,
            "overflow_y": null,
            "padding": null,
            "right": null,
            "top": null,
            "visibility": null,
            "width": null
          }
        },
        "1e97e417489a42cab9babf6e6a7fee66": {
          "model_module": "@jupyter-widgets/controls",
          "model_name": "DescriptionStyleModel",
          "model_module_version": "1.5.0",
          "state": {
            "_model_module": "@jupyter-widgets/controls",
            "_model_module_version": "1.5.0",
            "_model_name": "DescriptionStyleModel",
            "_view_count": null,
            "_view_module": "@jupyter-widgets/base",
            "_view_module_version": "1.2.0",
            "_view_name": "StyleView",
            "description_width": ""
          }
        },
        "4ed858e54fb947f49e6f6275408082ae": {
          "model_module": "@jupyter-widgets/base",
          "model_name": "LayoutModel",
          "model_module_version": "1.2.0",
          "state": {
            "_model_module": "@jupyter-widgets/base",
            "_model_module_version": "1.2.0",
            "_model_name": "LayoutModel",
            "_view_count": null,
            "_view_module": "@jupyter-widgets/base",
            "_view_module_version": "1.2.0",
            "_view_name": "LayoutView",
            "align_content": null,
            "align_items": null,
            "align_self": null,
            "border": null,
            "bottom": null,
            "display": null,
            "flex": null,
            "flex_flow": null,
            "grid_area": null,
            "grid_auto_columns": null,
            "grid_auto_flow": null,
            "grid_auto_rows": null,
            "grid_column": null,
            "grid_gap": null,
            "grid_row": null,
            "grid_template_areas": null,
            "grid_template_columns": null,
            "grid_template_rows": null,
            "height": null,
            "justify_content": null,
            "justify_items": null,
            "left": null,
            "margin": null,
            "max_height": null,
            "max_width": null,
            "min_height": null,
            "min_width": null,
            "object_fit": null,
            "object_position": null,
            "order": null,
            "overflow": null,
            "overflow_x": null,
            "overflow_y": null,
            "padding": null,
            "right": null,
            "top": null,
            "visibility": null,
            "width": null
          }
        },
        "4085fe2660e94e02a2185a31ad881bf5": {
          "model_module": "@jupyter-widgets/controls",
          "model_name": "ProgressStyleModel",
          "model_module_version": "1.5.0",
          "state": {
            "_model_module": "@jupyter-widgets/controls",
            "_model_module_version": "1.5.0",
            "_model_name": "ProgressStyleModel",
            "_view_count": null,
            "_view_module": "@jupyter-widgets/base",
            "_view_module_version": "1.2.0",
            "_view_name": "StyleView",
            "bar_color": null,
            "description_width": ""
          }
        },
        "558513ab041b453a9b13c624edf83650": {
          "model_module": "@jupyter-widgets/base",
          "model_name": "LayoutModel",
          "model_module_version": "1.2.0",
          "state": {
            "_model_module": "@jupyter-widgets/base",
            "_model_module_version": "1.2.0",
            "_model_name": "LayoutModel",
            "_view_count": null,
            "_view_module": "@jupyter-widgets/base",
            "_view_module_version": "1.2.0",
            "_view_name": "LayoutView",
            "align_content": null,
            "align_items": null,
            "align_self": null,
            "border": null,
            "bottom": null,
            "display": null,
            "flex": null,
            "flex_flow": null,
            "grid_area": null,
            "grid_auto_columns": null,
            "grid_auto_flow": null,
            "grid_auto_rows": null,
            "grid_column": null,
            "grid_gap": null,
            "grid_row": null,
            "grid_template_areas": null,
            "grid_template_columns": null,
            "grid_template_rows": null,
            "height": null,
            "justify_content": null,
            "justify_items": null,
            "left": null,
            "margin": null,
            "max_height": null,
            "max_width": null,
            "min_height": null,
            "min_width": null,
            "object_fit": null,
            "object_position": null,
            "order": null,
            "overflow": null,
            "overflow_x": null,
            "overflow_y": null,
            "padding": null,
            "right": null,
            "top": null,
            "visibility": null,
            "width": null
          }
        },
        "423571ecae7b4649b304d680697fe76c": {
          "model_module": "@jupyter-widgets/controls",
          "model_name": "DescriptionStyleModel",
          "model_module_version": "1.5.0",
          "state": {
            "_model_module": "@jupyter-widgets/controls",
            "_model_module_version": "1.5.0",
            "_model_name": "DescriptionStyleModel",
            "_view_count": null,
            "_view_module": "@jupyter-widgets/base",
            "_view_module_version": "1.2.0",
            "_view_name": "StyleView",
            "description_width": ""
          }
        }
      }
    }
  },
  "cells": [
    {
      "cell_type": "markdown",
      "metadata": {
        "id": "view-in-github",
        "colab_type": "text"
      },
      "source": [
        "<a href=\"https://colab.research.google.com/github/wow7seven/Adversarial-Attacks/blob/main/Adversarial_Attacks.ipynb\" target=\"_parent\"><img src=\"https://colab.research.google.com/assets/colab-badge.svg\" alt=\"Open In Colab\"/></a>"
      ]
    },
    {
      "cell_type": "code",
      "source": [
        "import torch\n",
        "import torch.nn as nn\n",
        "import torchvision\n",
        "import torchvision.transforms as transforms\n",
        "import matplotlib.pyplot as plt\n",
        "import numpy as np\n",
        "import torch.nn.functional as F\n",
        "import PIL\n",
        "import os\n",
        "\n",
        "from torch import optim\n",
        "from PIL import Image\n",
        "from torch.utils.data import Dataset, DataLoader\n",
        "from torchvision import transforms, utils\n",
        "from torchvision.utils import save_image\n",
        "from sklearn.manifold import TSNE\n"
      ],
      "metadata": {
        "id": "X0vKtQ1WYm2I"
      },
      "execution_count": null,
      "outputs": []
    },
    {
      "cell_type": "code",
      "source": [
        "from google.colab import drive\n",
        "drive.mount('/content/drive')"
      ],
      "metadata": {
        "colab": {
          "base_uri": "https://localhost:8080/"
        },
        "id": "Qp1UOGdqredX",
        "outputId": "d0ebd622-fd06-4fa9-e6b8-4fc32f37d347"
      },
      "execution_count": null,
      "outputs": [
        {
          "output_type": "stream",
          "name": "stdout",
          "text": [
            "Drive already mounted at /content/drive; to attempt to forcibly remount, call drive.mount(\"/content/drive\", force_remount=True).\n"
          ]
        }
      ]
    },
    {
      "cell_type": "code",
      "source": [
        "# Device configuration\n",
        "device = torch.device('cuda' if torch.cuda.is_available() else 'cpu')\n",
        "device"
      ],
      "metadata": {
        "colab": {
          "base_uri": "https://localhost:8080/"
        },
        "id": "hX69e9p-3XB-",
        "outputId": "848b1083-98d1-4fe5-dcc1-3b0f114ea11b"
      },
      "execution_count": null,
      "outputs": [
        {
          "output_type": "execute_result",
          "data": {
            "text/plain": [
              "device(type='cuda')"
            ]
          },
          "metadata": {},
          "execution_count": 3
        }
      ]
    },
    {
      "cell_type": "markdown",
      "source": [
        "# Question 1"
      ],
      "metadata": {
        "id": "4AntuPS5U2PF"
      }
    },
    {
      "cell_type": "markdown",
      "source": [
        "## Part 1"
      ],
      "metadata": {
        "id": "a2FZAVSSVucN"
      }
    },
    {
      "cell_type": "markdown",
      "source": [
        "### Dataset"
      ],
      "metadata": {
        "id": "tAHrGNIdU4mC"
      }
    },
    {
      "cell_type": "code",
      "execution_count": null,
      "metadata": {
        "colab": {
          "base_uri": "https://localhost:8080/"
        },
        "id": "upK4dXWW1O3X",
        "outputId": "739f9994-4a89-4512-af6c-c21786ec88ce"
      },
      "outputs": [
        {
          "output_type": "stream",
          "name": "stdout",
          "text": [
            "Files already downloaded and verified\n"
          ]
        }
      ],
      "source": [
        "batch_size = 500\n",
        "\n",
        "# CIFAR10 dataset\n",
        "train_dataset = torchvision.datasets.CIFAR10(root='../../data/',\n",
        "                                                train=True,\n",
        "                                                transform=transforms.ToTensor(),\n",
        "                                                download=True)\n",
        "\n",
        "test_dataset = torchvision.datasets.CIFAR10(root='../../data/',\n",
        "                                            train=False,\n",
        "                                            transform=transforms.ToTensor())\n",
        "\n",
        "train_loader = torch.utils.data.DataLoader(dataset=train_dataset,\n",
        "                                            batch_size=batch_size,\n",
        "                                            shuffle=True)\n",
        "\n",
        "test_loader = torch.utils.data.DataLoader(dataset=test_dataset,\n",
        "                                            batch_size=batch_size,\n",
        "                                            shuffle=False)\n",
        "\n",
        "num_classes = 10"
      ]
    },
    {
      "cell_type": "code",
      "source": [
        "for images,_  in train_loader:\n",
        "  i = images\n",
        "  break\n",
        "\n",
        "i.shape"
      ],
      "metadata": {
        "colab": {
          "base_uri": "https://localhost:8080/"
        },
        "id": "VOcWUAYDNvl8",
        "outputId": "49e335bf-62b5-45d0-daf9-72ddedafa6cb"
      },
      "execution_count": null,
      "outputs": [
        {
          "output_type": "execute_result",
          "data": {
            "text/plain": [
              "torch.Size([500, 3, 32, 32])"
            ]
          },
          "metadata": {},
          "execution_count": 5
        }
      ]
    },
    {
      "cell_type": "markdown",
      "source": [
        "### CNN model"
      ],
      "metadata": {
        "id": "2pNfHSh9U8A-"
      }
    },
    {
      "cell_type": "code",
      "source": [
        "class CNN_class(nn.Module):\n",
        "\n",
        "  def __init__(self):\n",
        "    super(CNN_class, self).__init__()\n",
        "    self.conv1 = nn.Conv2d( in_channels = 3, out_channels = 8 ,kernel_size = 3)\n",
        "    self.conv2 = nn.Conv2d( in_channels = 8, out_channels = 12 ,kernel_size = 3)\n",
        "    self.conv3 = nn.Conv2d(in_channels = 12, out_channels = 15 ,kernel_size = 3)\n",
        "\n",
        "    self.pool = nn.MaxPool2d(2,2)\n",
        "\n",
        "    self.fc1 = nn.Linear(2535, 256)\n",
        "    self.fc2 = nn.Linear(256, 10)\n",
        "\n",
        "  def forward(self, x):\n",
        "    x = self.conv1(x)\n",
        "    x = F.relu(x)\n",
        "    x = self.conv2(x)\n",
        "    x = F.relu(x)\n",
        "    x = self.conv3(x)\n",
        "    x = F.relu(x)\n",
        "    x = self.pool(x)\n",
        "    x = torch.flatten(x, 1)\n",
        "    x = self.fc1(x)\n",
        "    x = F.relu(x)\n",
        "    x = self.fc2(x)\n",
        "    output = F.log_softmax(x, dim=1)\n",
        "    return output\n",
        "\n",
        "model = CNN_class().to(device)\n",
        "model"
      ],
      "metadata": {
        "colab": {
          "base_uri": "https://localhost:8080/"
        },
        "id": "pkT3lTuj1nXp",
        "outputId": "5a865a10-b91d-4521-eb82-e3739059c02b"
      },
      "execution_count": null,
      "outputs": [
        {
          "output_type": "execute_result",
          "data": {
            "text/plain": [
              "CNN_class(\n",
              "  (conv1): Conv2d(3, 8, kernel_size=(3, 3), stride=(1, 1))\n",
              "  (conv2): Conv2d(8, 12, kernel_size=(3, 3), stride=(1, 1))\n",
              "  (conv3): Conv2d(12, 15, kernel_size=(3, 3), stride=(1, 1))\n",
              "  (pool): MaxPool2d(kernel_size=2, stride=2, padding=0, dilation=1, ceil_mode=False)\n",
              "  (fc1): Linear(in_features=2535, out_features=256, bias=True)\n",
              "  (fc2): Linear(in_features=256, out_features=10, bias=True)\n",
              ")"
            ]
          },
          "metadata": {},
          "execution_count": 6
        }
      ]
    },
    {
      "cell_type": "markdown",
      "source": [
        "### Accuracy function"
      ],
      "metadata": {
        "id": "ZeLWPKGuU-GV"
      }
    },
    {
      "cell_type": "code",
      "source": [
        "def accuracy(y_pred, y_test):\n",
        "  count = 0\n",
        "  val = []\n",
        "  for i in range(len(y_test)):\n",
        "    val.append(torch.argmax(y_pred[i]))\n",
        "    if val[i] == y_test[i]:\n",
        "      count += 1\n",
        "  acc = count/len(y_test)\n",
        "  return 100*acc"
      ],
      "metadata": {
        "id": "cq6zjGai4JFd"
      },
      "execution_count": null,
      "outputs": []
    },
    {
      "cell_type": "markdown",
      "source": [
        "### Checker Function\n",
        "#### (For training)"
      ],
      "metadata": {
        "id": "g77-aYxlVAKW"
      }
    },
    {
      "cell_type": "code",
      "execution_count": null,
      "metadata": {
        "id": "pK8IjHk51O3c"
      },
      "outputs": [],
      "source": [
        "def checker(model):\n",
        "  criterion = nn.CrossEntropyLoss()\n",
        "  optimizer = optim.Adam(model.parameters(), lr=0.003)\n",
        "\n",
        "  num_epochs = 10\n",
        "  overall_train_error = []\n",
        "  overall_train_acc = []\n",
        "\n",
        "  overall_val_error = []\n",
        "  overall_val_acc = []\n",
        "\n",
        "  for epoch in range(num_epochs):\n",
        "    print('EPOCH :', epoch+1)\n",
        "    epoch_loss = 0\n",
        "    epoch_acc = 0\n",
        "\n",
        "    for images, labels in train_loader:\n",
        "      images = images.to(device)\n",
        "      labels = labels.to(device)\n",
        "\n",
        "      optimizer.zero_grad()\n",
        "\n",
        "      output = model(images)\n",
        "      loss = criterion(output, labels)\n",
        "\n",
        "      loss.backward()\n",
        "      optimizer.step()\n",
        "      epoch_loss += loss.item()\n",
        "      epoch_acc += accuracy(output,labels)\n",
        "\n",
        "    overall_train_acc.append(epoch_acc/len(train_loader))\n",
        "    overall_train_error.append(epoch_loss/len(train_loader))\n",
        "    print(\"Training loss =\", epoch_loss/len(train_loader))\n",
        "    print(\"Training accuracy =\", epoch_acc/len(train_loader))\n",
        "    print()\n",
        "\n",
        "  return overall_train_error, overall_train_acc\n"
      ]
    },
    {
      "cell_type": "code",
      "source": [
        "before_attack_train_error, before_attack_train_acc = checker(model)"
      ],
      "metadata": {
        "colab": {
          "base_uri": "https://localhost:8080/"
        },
        "id": "FAVkth774UG8",
        "outputId": "9df56d94-f26b-423d-eb96-0d719a718436"
      },
      "execution_count": null,
      "outputs": [
        {
          "output_type": "stream",
          "name": "stdout",
          "text": [
            "EPOCH : 1\n",
            "Training loss = 1.8008596909046173\n",
            "Training accuracy = 34.83599999999999\n",
            "\n",
            "EPOCH : 2\n",
            "Training loss = 1.432233909368515\n",
            "Training accuracy = 48.495999999999995\n",
            "\n",
            "EPOCH : 3\n",
            "Training loss = 1.2747790217399597\n",
            "Training accuracy = 54.727999999999994\n",
            "\n",
            "EPOCH : 4\n",
            "Training loss = 1.1456941616535188\n",
            "Training accuracy = 59.39\n",
            "\n",
            "EPOCH : 5\n",
            "Training loss = 1.0292216217517853\n",
            "Training accuracy = 63.557999999999986\n",
            "\n",
            "EPOCH : 6\n",
            "Training loss = 0.9361832737922668\n",
            "Training accuracy = 67.074\n",
            "\n",
            "EPOCH : 7\n",
            "Training loss = 0.854863743185997\n",
            "Training accuracy = 69.96200000000003\n",
            "\n",
            "EPOCH : 8\n",
            "Training loss = 0.7743500757217407\n",
            "Training accuracy = 72.94999999999997\n",
            "\n",
            "EPOCH : 9\n",
            "Training loss = 0.69099629342556\n",
            "Training accuracy = 76.14200000000001\n",
            "\n",
            "EPOCH : 10\n",
            "Training loss = 0.6156964382529259\n",
            "Training accuracy = 78.72999999999999\n",
            "\n"
          ]
        }
      ]
    },
    {
      "cell_type": "code",
      "source": [
        "def final(model):\n",
        "  epoch_acc = 0\n",
        "  epoch_loss = 0\n",
        "  criterion = nn.CrossEntropyLoss()\n",
        "  for images, labels in test_loader:\n",
        "    images = images.to(device)\n",
        "    labels = labels.to(device)\n",
        "\n",
        "    output = model(images)\n",
        "    loss = criterion(output, labels)\n",
        "\n",
        "    epoch_loss += loss.item()\n",
        "    epoch_acc += accuracy(output,labels)\n",
        "\n",
        "  print(\"Testing loss =\", epoch_loss/len(test_loader))\n",
        "  print(\"Testing accuracy =\", epoch_acc/len(test_loader))\n",
        "  print()\n",
        "\n",
        "  return epoch_loss/len(test_loader),epoch_acc/len(test_loader)"
      ],
      "metadata": {
        "id": "-byXvAJ_Z0BV"
      },
      "execution_count": null,
      "outputs": []
    },
    {
      "cell_type": "code",
      "source": [
        "before_attack_test_error, before_attack_test_acc = final(model)"
      ],
      "metadata": {
        "colab": {
          "base_uri": "https://localhost:8080/"
        },
        "id": "8jBocx8ZZ6Pc",
        "outputId": "694efc28-3f3d-4fab-f881-9f7cd4b30966"
      },
      "execution_count": null,
      "outputs": [
        {
          "output_type": "stream",
          "name": "stdout",
          "text": [
            "Testing loss = 1.08484907746315\n",
            "Testing accuracy = 64.76\n",
            "\n"
          ]
        }
      ]
    },
    {
      "cell_type": "code",
      "source": [
        "plt.figure(figsize = (10,6))\n",
        "plt.plot(range(1,11), before_attack_train_acc, '*-')\n",
        "plt.plot(10, before_attack_test_acc, 'r*')\n",
        "plt.annotate('Test accuracy = {:.2f} %'.format(before_attack_test_acc), xy=(12, before_attack_test_acc - 5), xytext=(12, before_attack_test_acc - 3), color = 'black')\n",
        "plt.xlabel('Epoch')\n",
        "plt.ylabel('Value')\n",
        "plt.legend(['Train', 'Test'])\n",
        "plt.title('Accuracy')\n",
        "plt.show()\n",
        "\n",
        "print()\n",
        "\n",
        "plt.figure(figsize = (10,6))\n",
        "plt.plot(range(1,11), before_attack_train_error, '*-')\n",
        "plt.plot(10, before_attack_test_error, 'r*')\n",
        "plt.annotate('Test error = {:.2f}'.format(before_attack_test_error), xy=(13.25, before_attack_test_error - .1), xytext=(13.25, before_attack_test_error - .1), color = 'black')\n",
        "plt.xlabel('Epoch')\n",
        "plt.ylabel('Value')\n",
        "plt.legend(['Train', 'Test'])\n",
        "plt.title('Error')\n",
        "plt.show()\n"
      ],
      "metadata": {
        "colab": {
          "base_uri": "https://localhost:8080/",
          "height": 808
        },
        "id": "VJ5wNr85fj_m",
        "outputId": "d55013d6-03c3-445c-c94c-117c2909220e"
      },
      "execution_count": null,
      "outputs": [
        {
          "output_type": "display_data",
          "data": {
            "text/plain": [
              "<Figure size 720x432 with 1 Axes>"
            ],
            "image/png": "[encoded data removed]"
          },
          "metadata": {
            "needs_background": "light"
          }
        },
        {
          "output_type": "stream",
          "name": "stdout",
          "text": [
            "\n"
          ]
        },
        {
          "output_type": "display_data",
          "data": {
            "text/plain": [
              "<Figure size 720x432 with 1 Axes>"
            ],
            "image/png": "[encoded data removed]"
          },
          "metadata": {
            "needs_background": "light"
          }
        }
      ]
    },
    {
      "cell_type": "markdown",
      "source": [
        "### FGSM"
      ],
      "metadata": {
        "id": "Vhh-NoCkVk5w"
      }
    },
    {
      "cell_type": "code",
      "execution_count": null,
      "metadata": {
        "id": "MYichx1K1O3e"
      },
      "outputs": [],
      "source": [
        "def fgsm(image, epsilon, data_grad):\n",
        "\n",
        "    sign_data_grad = data_grad.sign()\n",
        "    perturbed_image = image + epsilon * sign_data_grad                      # image + change each pixel by a little\n",
        "    perturbed_image = torch.clamp(perturbed_image, 0, 1)                    # to confine the range to [0,1]\n",
        "\n",
        "    return perturbed_image\n"
      ]
    },
    {
      "cell_type": "markdown",
      "source": [
        "### Attacking the model function"
      ],
      "metadata": {
        "id": "Ci4VHgfZWMDF"
      }
    },
    {
      "cell_type": "code",
      "execution_count": null,
      "metadata": {
        "id": "5_Ek5tzU1O3e"
      },
      "outputs": [],
      "source": [
        "def attack(model, epsilon, device):\n",
        "\n",
        "    criterion = nn.CrossEntropyLoss()\n",
        "    optimizer = optim.Adam(model.parameters(), lr=0.003)\n",
        "\n",
        "    model.eval()\n",
        "\n",
        "    acc = 0\n",
        "\n",
        "    # Iterate over the test set\n",
        "    for images, labels in test_loader:\n",
        "\n",
        "        images = images.to(device)\n",
        "        labels = labels.to(device)\n",
        "\n",
        "        images.requires_grad = True                                             # This is done to get data.grad(here images.grad) for generating pertubated images using fgsm function\n",
        "        outputs = model(images)\n",
        "        loss = criterion(outputs, labels)\n",
        "        model.zero_grad()\n",
        "        loss.backward()\n",
        "\n",
        "        perturbed_images = fgsm(images, epsilon, images.grad)\n",
        "\n",
        "        outputs_after_attack = model(perturbed_images)\n",
        "        acc += accuracy(outputs_after_attack,labels)\n",
        "\n",
        "    acc = acc/len(test_loader)\n",
        "    return acc\n"
      ]
    },
    {
      "cell_type": "markdown",
      "source": [
        "### Varing epsilons"
      ],
      "metadata": {
        "id": "0RiaW398Wm3G"
      }
    },
    {
      "cell_type": "code",
      "execution_count": null,
      "metadata": {
        "id": "iwnZpmwa1O3f"
      },
      "outputs": [],
      "source": [
        "epsilons = np.arange(0,0.21,.025)\n",
        "accuracies = []\n",
        "examples = []"
      ]
    },
    {
      "cell_type": "code",
      "execution_count": null,
      "metadata": {
        "id": "_2sUwXYa1O3f"
      },
      "outputs": [],
      "source": [
        "for eps in epsilons:\n",
        "    acc = attack(model, eps, device)\n",
        "    accuracies.append(acc)"
      ]
    },
    {
      "cell_type": "code",
      "execution_count": null,
      "metadata": {
        "colab": {
          "base_uri": "https://localhost:8080/",
          "height": 295
        },
        "id": "EWvaUPm81O3g",
        "outputId": "cf09d763-2438-4c98-93d3-b719e7a44a72"
      },
      "outputs": [
        {
          "output_type": "display_data",
          "data": {
            "text/plain": [
              "<Figure size 432x288 with 1 Axes>"
            ],
            "image/png": "[encoded data removed]"
          },
          "metadata": {
            "needs_background": "light"
          }
        }
      ],
      "source": [
        "import matplotlib.pyplot as plt\n",
        "\n",
        "plt.plot(epsilons, accuracies, \"*-\")\n",
        "plt.yticks(np.arange(0, 101, step=10))\n",
        "plt.xticks(np.arange(0, .35, step=.025))\n",
        "plt.plot(0 , accuracies[0], 'r*')\n",
        "plt.annotate('Without Attack', xy=(0.01, accuracies[0] - 1.5), xytext=(0.01, accuracies[0] - 1.5), color = 'red')\n",
        "plt.title(\"Accuracy vs Epsilon\")\n",
        "plt.xlabel(\"Epsilon\")\n",
        "plt.ylabel(\"Accuracy (%)\")\n",
        "plt.show()\n"
      ]
    },
    {
      "cell_type": "code",
      "source": [
        "accuracies"
      ],
      "metadata": {
        "colab": {
          "base_uri": "https://localhost:8080/"
        },
        "id": "jWTF9G0Y3ySB",
        "outputId": "f8b4e323-0366-4abc-a679-9e438bd0593c"
      },
      "execution_count": null,
      "outputs": [
        {
          "output_type": "execute_result",
          "data": {
            "text/plain": [
              "[64.76,\n",
              " 2.2500000000000004,\n",
              " 0.27,\n",
              " 0.30000000000000004,\n",
              " 0.65,\n",
              " 1.27,\n",
              " 1.9400000000000002,\n",
              " 2.6100000000000003,\n",
              " 3.14]"
            ]
          },
          "metadata": {},
          "execution_count": 18
        }
      ]
    },
    {
      "cell_type": "markdown",
      "source": [
        "### Using the best epsilon"
      ],
      "metadata": {
        "id": "9VntbildWquN"
      }
    },
    {
      "cell_type": "code",
      "source": [
        "def best_attack(model, epsilon, device):\n",
        "\n",
        "    criterion = nn.CrossEntropyLoss()\n",
        "    optimizer = optim.Adam(model.parameters(), lr=0.003)\n",
        "\n",
        "    model.eval()\n",
        "\n",
        "    examples = []\n",
        "    acc = 0\n",
        "    i = 0\n",
        "    # Iterate over the test set\n",
        "    for images, labels in test_loader:\n",
        "\n",
        "        images = images.to(device)\n",
        "        labels = labels.to(device)\n",
        "\n",
        "        images.requires_grad = True                                             # This is done to get data.grad(here images.grad) for generating pertubated images using fgsm function\n",
        "        outputs = model(images)\n",
        "        loss = criterion(outputs, labels)\n",
        "        model.zero_grad()\n",
        "        loss.backward()\n",
        "\n",
        "        perturbed_images = fgsm(images, epsilon, images.grad)\n",
        "\n",
        "        outputs_after_attack = model(perturbed_images)\n",
        "        acc += accuracy(outputs_after_attack,labels)\n",
        "\n",
        "        _, preds = torch.max(outputs_after_attack.data, 1)\n",
        "    return images, perturbed_images, labels, preds\n"
      ],
      "metadata": {
        "id": "U-3iFVTv0wEf"
      },
      "execution_count": null,
      "outputs": []
    },
    {
      "cell_type": "code",
      "source": [
        "images, perturbed_images, labels, preds_after_attack = best_attack(model, .05, device)"
      ],
      "metadata": {
        "id": "naYcIDO51b7Z"
      },
      "execution_count": null,
      "outputs": []
    },
    {
      "cell_type": "markdown",
      "source": [
        "### Visualizing"
      ],
      "metadata": {
        "id": "k5dFg1vAWuhM"
      }
    },
    {
      "cell_type": "code",
      "execution_count": null,
      "metadata": {
        "id": "N0zKj-QD1O3h"
      },
      "outputs": [],
      "source": [
        "classes = ['plane', 'car', 'bird', 'cat', 'deer', 'dog', 'frog', 'horse', 'ship', 'truck']"
      ]
    },
    {
      "cell_type": "code",
      "source": [
        "images = images[:5]\n",
        "perturbed_images = perturbed_images[:5]\n",
        "labels = labels[:5]\n",
        "preds_after_attack = preds_after_attack[:5]"
      ],
      "metadata": {
        "id": "wToiLm1VXmP5"
      },
      "execution_count": null,
      "outputs": []
    },
    {
      "cell_type": "code",
      "source": [
        "(preds_after_attack)"
      ],
      "metadata": {
        "colab": {
          "base_uri": "https://localhost:8080/"
        },
        "id": "QpPoOcntb-MC",
        "outputId": "3c0280c5-4874-44f9-fcf1-bf99f0b751df"
      },
      "execution_count": null,
      "outputs": [
        {
          "output_type": "execute_result",
          "data": {
            "text/plain": [
              "tensor([5, 4, 4, 4, 4], device='cuda:0')"
            ]
          },
          "metadata": {},
          "execution_count": 23
        }
      ]
    },
    {
      "cell_type": "code",
      "execution_count": null,
      "metadata": {
        "colab": {
          "base_uri": "https://localhost:8080/",
          "height": 1000
        },
        "id": "9Vj4wO4q1O3h",
        "outputId": "0430d9c4-ebaa-417b-e18d-2713569f3c60"
      },
      "outputs": [
        {
          "output_type": "display_data",
          "data": {
            "text/plain": [
              "<Figure size 720x720 with 3 Axes>"
            ],
            "image/png": "[encoded data removed]"
          },
          "metadata": {
            "needs_background": "light"
          }
        },
        {
          "output_type": "stream",
          "name": "stdout",
          "text": [
            "\n"
          ]
        },
        {
          "output_type": "display_data",
          "data": {
            "text/plain": [
              "<Figure size 720x720 with 3 Axes>"
            ],
            "image/png": "[encoded data removed]"
          },
          "metadata": {
            "needs_background": "light"
          }
        },
        {
          "output_type": "stream",
          "name": "stdout",
          "text": [
            "\n"
          ]
        },
        {
          "output_type": "display_data",
          "data": {
            "text/plain": [
              "<Figure size 720x720 with 3 Axes>"
            ],
            "image/png": "[encoded data removed]"
          },
          "metadata": {
            "needs_background": "light"
          }
        },
        {
          "output_type": "stream",
          "name": "stdout",
          "text": [
            "\n"
          ]
        },
        {
          "output_type": "display_data",
          "data": {
            "text/plain": [
              "<Figure size 720x720 with 3 Axes>"
            ],
            "image/png": "[encoded data removed]"
          },
          "metadata": {
            "needs_background": "light"
          }
        },
        {
          "output_type": "stream",
          "name": "stdout",
          "text": [
            "\n"
          ]
        },
        {
          "output_type": "display_data",
          "data": {
            "text/plain": [
              "<Figure size 720x720 with 3 Axes>"
            ],
            "image/png": "[encoded data removed]"
          },
          "metadata": {
            "needs_background": "light"
          }
        },
        {
          "output_type": "stream",
          "name": "stdout",
          "text": [
            "\n"
          ]
        }
      ],
      "source": [
        "for i in range(5):\n",
        "  plt.figure(figsize=(10,10))\n",
        "\n",
        "  plt.subplot(i+1,3,1)\n",
        "  plt.title(\"Original: \" +  str(classes[labels[i]]))\n",
        "  plt.imshow(images[i].cpu().detach().numpy().transpose(1,2,0).clip(0,255))\n",
        "\n",
        "  plt.subplot(i+1,3,2)\n",
        "  plt.title(\"Perturbed: \" + str(classes[preds_after_attack[i]]))\n",
        "  plt.imshow(perturbed_images[i].cpu().detach().numpy().transpose(1,2,0).clip(0,255))\n",
        "\n",
        "  plt.subplot(i+1,3,3)\n",
        "  plt.title(\"Difference\")\n",
        "  plt.imshow(((images[i] - perturbed_images[i])*255/0.5).cpu().detach().numpy().transpose(1,2,0).clip(0,1))\n",
        "\n",
        "  plt.show()\n",
        "  print()"
      ]
    },
    {
      "cell_type": "markdown",
      "source": [
        "## Part 2"
      ],
      "metadata": {
        "id": "ISydNVqqWxNh"
      }
    },
    {
      "cell_type": "markdown",
      "source": [
        "### Dataset - SVHN"
      ],
      "metadata": {
        "id": "sx6_oxo6dey3"
      }
    },
    {
      "cell_type": "code",
      "source": [
        "trainset = torchvision.datasets.SVHN(root='./data', split='train', download=True, transform=transforms.ToTensor())\n",
        "trainloader = torch.utils.data.DataLoader(trainset, batch_size=4,\n",
        "                                            shuffle=True, num_workers=2)\n",
        "\n",
        "testset = torchvision.datasets.SVHN(root='./data', split='test', download=True, transform=transforms.ToTensor())\n",
        "testloader = torch.utils.data.DataLoader(testset, batch_size=4, shuffle=False, num_workers=2)"
      ],
      "metadata": {
        "colab": {
          "base_uri": "https://localhost:8080/",
          "height": 116,
          "referenced_widgets": [
            "386e4685d563442db305d71f578a2dc3",
            "71a4411425a84e89bdaee8306c4b9da4",
            "64a18eb1e96a4ba5ad4394908a752d4a",
            "2bfc42b4c64f4a719b5c2b5a807c4449",
            "b7ce7b850c4644c389e6794200afded1",
            "d7963c4eabc541179c9306670bf1c030",
            "9edbfc87f12e4c68b33fd79aea3f2791",
            "699b2ffd9b674f9b8793da90d93804d2",
            "44225aa7673f44ffb96c3f97237304f1",
            "e6a36a03a3ed4bf6af420d37bf5dfeb7",
            "4b115e974e24447d969e17c4d5ea2900",
            "10cec61e2500402cb63013527eb23d3f",
            "32eb8287210a463fbb473ae0947df59e",
            "c1a0e047e0f148289b1a8f039d0afcec",
            "77dff1540e914c21a6d6c3b957891496",
            "1f58ebb93dac419bad06920d605423b3",
            "00da3d5568e74f678638dcc95238584b",
            "ef560abe71424d468c4d72b8b0a8efe2",
            "56d3f712ddd64dc789cbd5e76bd59030",
            "3de87d52e08c44c185631e65b59bef30",
            "f7cee9c68cad46ea8d5f67bf0b66ef38",
            "fd885e839a8b4269a8481c9e5d867cc4"
          ]
        },
        "id": "H19GgaL-deBP",
        "outputId": "b4420a97-7690-4d30-a8c1-4cc0b14f204c"
      },
      "execution_count": null,
      "outputs": [
        {
          "output_type": "stream",
          "name": "stdout",
          "text": [
            "Downloading http://ufldl.stanford.edu/housenumbers/train_32x32.mat to ./data/train_32x32.mat\n"
          ]
        },
        {
          "output_type": "display_data",
          "data": {
            "text/plain": [
              "  0%|          | 0/182040794 [00:00<?, ?it/s]"
            ],
            "application/vnd.jupyter.widget-view+json": {
              "version_major": 2,
              "version_minor": 0,
              "model_id": "386e4685d563442db305d71f578a2dc3"
            }
          },
          "metadata": {}
        },
        {
          "output_type": "stream",
          "name": "stdout",
          "text": [
            "Downloading http://ufldl.stanford.edu/housenumbers/test_32x32.mat to ./data/test_32x32.mat\n"
          ]
        },
        {
          "output_type": "display_data",
          "data": {
            "text/plain": [
              "  0%|          | 0/64275384 [00:00<?, ?it/s]"
            ],
            "application/vnd.jupyter.widget-view+json": {
              "version_major": 2,
              "version_minor": 0,
              "model_id": "10cec61e2500402cb63013527eb23d3f"
            }
          },
          "metadata": {}
        }
      ]
    },
    {
      "cell_type": "markdown",
      "source": [
        "### Defining the two models"
      ],
      "metadata": {
        "id": "0aIBlIE3XgX_"
      }
    },
    {
      "cell_type": "code",
      "source": [
        "ResNet = torchvision.models.resnet18(weights = 'DEFAULT')\n",
        "ResNet.fc = nn.Linear(in_features=512, out_features=10, bias=True)              # Since SVHN has 10 classes\n",
        "ResNet = ResNet.to(device)"
      ],
      "metadata": {
        "id": "uwfA1NBeeUS9",
        "colab": {
          "base_uri": "https://localhost:8080/",
          "height": 66,
          "referenced_widgets": [
            "0a11c1a196834bc684ff8e5fe1f30b2c",
            "e23d9e6dacbf49a4a2f8a5f5315a75e1",
            "fd7a159d587b449cb8170df13907b2d0",
            "10e868a8aa1e47acb559acfeaa446a55",
            "b11dccf5d9b545e3a35dab10580667b8",
            "1c8996c98a354dbcb7b3f6ceb583bc7f",
            "eb4b7e04c5ec4d969f49a02b4c993f08",
            "1dfb187df1954a8a9f9bf4f637b2c7d5",
            "f99fa4909f6a4b7aa98f57b9a083e18e",
            "4342925d8cfd4e0297f1889e8977cdfd",
            "decef6dfe2c149a393b512df1db0576c"
          ]
        },
        "outputId": "184e2139-f3e6-4dd1-fd1d-0e77a1bb0b7e"
      },
      "execution_count": null,
      "outputs": [
        {
          "output_type": "stream",
          "name": "stderr",
          "text": [
            "Downloading: \"https://download.pytorch.org/models/resnet18-f37072fd.pth\" to /root/.cache/torch/hub/checkpoints/resnet18-f37072fd.pth\n"
          ]
        },
        {
          "output_type": "display_data",
          "data": {
            "text/plain": [
              "  0%|          | 0.00/44.7M [00:00<?, ?B/s]"
            ],
            "application/vnd.jupyter.widget-view+json": {
              "version_major": 2,
              "version_minor": 0,
              "model_id": "0a11c1a196834bc684ff8e5fe1f30b2c"
            }
          },
          "metadata": {}
        }
      ]
    },
    {
      "cell_type": "code",
      "source": [
        "ShuffleNetV2 = torchvision.models.shufflenet_v2_x1_0(weights = 'DEFAULT')\n",
        "ShuffleNetV2.fc = nn.Linear(in_features=1024, out_features=10, bias=True)              # Since SVHN has 10 classes\n",
        "ShuffleNetV2 = ShuffleNetV2.to(device)"
      ],
      "metadata": {
        "id": "30kZTgGweYer",
        "colab": {
          "base_uri": "https://localhost:8080/",
          "height": 66,
          "referenced_widgets": [
            "4ec0251ed11143edac91e1b3ad6c120a",
            "e968aa1c98bc4c4d8462ad66605570c0",
            "0e6be50b08c743d4bf2ecc7084049f73",
            "2c11ebb539bc42908e285691a1aa979d",
            "73a67d70a378424ebbbd5c33a0cf35ff",
            "10a17e0f53244ee2bc1276edbb913442",
            "1e97e417489a42cab9babf6e6a7fee66",
            "4ed858e54fb947f49e6f6275408082ae",
            "4085fe2660e94e02a2185a31ad881bf5",
            "558513ab041b453a9b13c624edf83650",
            "423571ecae7b4649b304d680697fe76c"
          ]
        },
        "outputId": "6297226b-952c-4f75-bf4d-e55d57ebcec8"
      },
      "execution_count": null,
      "outputs": [
        {
          "output_type": "stream",
          "name": "stderr",
          "text": [
            "Downloading: \"https://download.pytorch.org/models/shufflenetv2_x1-5666bf0f80.pth\" to /root/.cache/torch/hub/checkpoints/shufflenetv2_x1-5666bf0f80.pth\n"
          ]
        },
        {
          "output_type": "display_data",
          "data": {
            "text/plain": [
              "  0%|          | 0.00/8.79M [00:00<?, ?B/s]"
            ],
            "application/vnd.jupyter.widget-view+json": {
              "version_major": 2,
              "version_minor": 0,
              "model_id": "4ec0251ed11143edac91e1b3ad6c120a"
            }
          },
          "metadata": {}
        }
      ]
    },
    {
      "cell_type": "markdown",
      "source": [
        "### Train ResNet and ShuffleNet on SVHN"
      ],
      "metadata": {
        "id": "aQsbA_OTEB-0"
      }
    },
    {
      "cell_type": "code",
      "source": [
        "def start(model):\n",
        "  criterion = nn.CrossEntropyLoss()\n",
        "  optimizer = optim.Adam(model.parameters(), lr=0.003)\n",
        "\n",
        "  num_epochs = 10\n",
        "\n",
        "  overall_train_error = []\n",
        "  overall_train_acc = []\n",
        "\n",
        "  for epoch in range(num_epochs):\n",
        "    print('EPOCH :', epoch+1)\n",
        "    epoch_loss = 0\n",
        "    epoch_acc = 0\n",
        "\n",
        "    for images, labels in train_loader:\n",
        "      images = images.to(device)\n",
        "      labels = labels.to(device)\n",
        "\n",
        "      optimizer.zero_grad()\n",
        "\n",
        "      output = model(images)\n",
        "      loss = criterion(output, labels)\n",
        "\n",
        "      loss.backward()\n",
        "      optimizer.step()\n",
        "      epoch_loss += loss.item()\n",
        "      epoch_acc += accuracy(output,labels)\n",
        "\n",
        "    overall_train_acc.append(epoch_acc/len(train_loader))\n",
        "    overall_train_error.append(epoch_loss/len(train_loader))\n",
        "    print(\"Training loss =\", epoch_loss/len(train_loader))\n",
        "    print(\"Training accuracy =\", epoch_acc/len(train_loader))\n",
        "    print()\n",
        "\n",
        "  return overall_train_error, overall_train_acc\n"
      ],
      "metadata": {
        "id": "L-NfbDkXEGYF"
      },
      "execution_count": null,
      "outputs": []
    },
    {
      "cell_type": "code",
      "source": [
        "def end(model):\n",
        "  criterion = nn.CrossEntropyLoss()\n",
        "  optimizer = optim.Adam(model.parameters(), lr=0.003)\n",
        "\n",
        "  epoch_loss = 0\n",
        "  epoch_acc = 0\n",
        "\n",
        "  for images, labels in test_loader:\n",
        "    images = images.to(device)\n",
        "    labels = labels.to(device)\n",
        "\n",
        "    optimizer.zero_grad()\n",
        "\n",
        "    output = model(images)\n",
        "    loss = criterion(output, labels)\n",
        "\n",
        "    loss.backward()\n",
        "    optimizer.step()\n",
        "    epoch_loss += loss.item()\n",
        "    epoch_acc += accuracy(output,labels)\n",
        "\n",
        "  print(\"Testing loss =\", epoch_loss/len(test_loader))\n",
        "  print(\"Testing accuracy =\", epoch_acc/len(test_loader))\n",
        "  print()\n",
        "\n",
        "  return epoch_loss/len(test_loader), epoch_acc/len(test_loader)\n"
      ],
      "metadata": {
        "id": "htmdUCgIv2sg"
      },
      "execution_count": null,
      "outputs": []
    },
    {
      "cell_type": "code",
      "source": [
        "resnet_train_error, resnet_train_acc = start(ResNet)"
      ],
      "metadata": {
        "colab": {
          "base_uri": "https://localhost:8080/"
        },
        "id": "MQemMuO8EXB5",
        "outputId": "4cd693d5-0dd3-4ac9-8781-0094c038e7f4"
      },
      "execution_count": null,
      "outputs": [
        {
          "output_type": "stream",
          "name": "stdout",
          "text": [
            "EPOCH : 1\n",
            "Training loss = 1.0121779572963714\n",
            "Training accuracy = 65.168\n",
            "\n",
            "EPOCH : 2\n",
            "Training loss = 0.6261012586951256\n",
            "Training accuracy = 78.64999999999998\n",
            "\n",
            "EPOCH : 3\n",
            "Training loss = 0.4920819002389908\n",
            "Training accuracy = 83.37799999999999\n",
            "\n",
            "EPOCH : 4\n",
            "Training loss = 0.4066070318222046\n",
            "Training accuracy = 86.134\n",
            "\n",
            "EPOCH : 5\n",
            "Training loss = 0.31416602939367294\n",
            "Training accuracy = 89.30000000000001\n",
            "\n",
            "EPOCH : 6\n",
            "Training loss = 0.24916526153683663\n",
            "Training accuracy = 91.59400000000001\n",
            "\n",
            "EPOCH : 7\n",
            "Training loss = 0.18979171082377433\n",
            "Training accuracy = 93.49199999999998\n",
            "\n",
            "EPOCH : 8\n",
            "Training loss = 0.16171503134071827\n",
            "Training accuracy = 94.40400000000004\n",
            "\n",
            "EPOCH : 9\n",
            "Training loss = 0.12460955135524272\n",
            "Training accuracy = 95.834\n",
            "\n",
            "EPOCH : 10\n",
            "Training loss = 0.40936159159988167\n",
            "Training accuracy = 86.53800000000001\n",
            "\n"
          ]
        }
      ]
    },
    {
      "cell_type": "code",
      "source": [
        "resnet_test_error, resnet_test_acc = end(ResNet)"
      ],
      "metadata": {
        "colab": {
          "base_uri": "https://localhost:8080/"
        },
        "id": "IGluwtW3wKdH",
        "outputId": "86b335a7-de94-49b9-da5e-de1ca1af8ff1"
      },
      "execution_count": null,
      "outputs": [
        {
          "output_type": "stream",
          "name": "stdout",
          "text": [
            "Testing loss = 0.6729918092489242\n",
            "Testing accuracy = 77.93\n",
            "\n"
          ]
        }
      ]
    },
    {
      "cell_type": "code",
      "source": [
        "shufflenet_train_error, shufflenet_train_acc = start(ShuffleNetV2)"
      ],
      "metadata": {
        "id": "w1NOqvSFEW6i",
        "colab": {
          "base_uri": "https://localhost:8080/"
        },
        "outputId": "26fc6951-a721-4fbd-b064-daf10bba785f"
      },
      "execution_count": null,
      "outputs": [
        {
          "output_type": "stream",
          "name": "stdout",
          "text": [
            "EPOCH : 1\n",
            "Training loss = 1.0874761956930161\n",
            "Training accuracy = 63.43200000000001\n",
            "\n",
            "EPOCH : 2\n",
            "Training loss = 0.6746922367811203\n",
            "Training accuracy = 76.60999999999997\n",
            "\n",
            "EPOCH : 3\n",
            "Training loss = 0.5583290240168571\n",
            "Training accuracy = 80.59000000000002\n",
            "\n",
            "EPOCH : 4\n",
            "Training loss = 0.4744144469499588\n",
            "Training accuracy = 83.40999999999997\n",
            "\n",
            "EPOCH : 5\n",
            "Training loss = 0.4129881769418716\n",
            "Training accuracy = 85.656\n",
            "\n",
            "EPOCH : 6\n",
            "Training loss = 0.37287394374608995\n",
            "Training accuracy = 86.89600000000002\n",
            "\n",
            "EPOCH : 7\n",
            "Training loss = 0.3250474524497986\n",
            "Training accuracy = 88.54599999999999\n",
            "\n",
            "EPOCH : 8\n",
            "Training loss = 0.28727555930614473\n",
            "Training accuracy = 89.786\n",
            "\n",
            "EPOCH : 9\n",
            "Training loss = 0.25451974138617517\n",
            "Training accuracy = 91.05000000000004\n",
            "\n",
            "EPOCH : 10\n",
            "Training loss = 0.23184869572520256\n",
            "Training accuracy = 91.80000000000001\n",
            "\n"
          ]
        }
      ]
    },
    {
      "cell_type": "code",
      "source": [
        "shufflenet_test_error, shufflenet_test_acc = end(ShuffleNetV2)"
      ],
      "metadata": {
        "colab": {
          "base_uri": "https://localhost:8080/"
        },
        "id": "BQn_oOIcwTe4",
        "outputId": "c520d153-1d2b-4ba4-806f-1bbd40660203"
      },
      "execution_count": null,
      "outputs": [
        {
          "output_type": "stream",
          "name": "stdout",
          "text": [
            "Testing loss = 0.7231867045164109\n",
            "Testing accuracy = 75.84\n",
            "\n"
          ]
        }
      ]
    },
    {
      "cell_type": "markdown",
      "source": [
        "### Defininng two attacks"
      ],
      "metadata": {
        "id": "ebpfIu6YYcZW"
      }
    },
    {
      "cell_type": "markdown",
      "source": [
        "### Pgd Attack"
      ],
      "metadata": {
        "id": "VeUw0QAfZTLw"
      }
    },
    {
      "cell_type": "code",
      "source": [
        "# def fgsm(image, epsilon, data_grad):\n",
        "\n",
        "#     sign_data_grad = data_grad.sign()\n",
        "#     perturbed_image = image + epsilon * sign_data_grad                      # image + change each pixel by a little\n",
        "#     perturbed_image = torch.clamp(perturbed_image, 0, 1)                    # to confine the range to [0,1]\n",
        "\n",
        "#     return perturbed_image\n",
        "\n",
        "def pgd(model, images, labels, epsilon, alpha, num_iter, device, grad_chupa):\n",
        "  criterion = nn.CrossEntropyLoss()\n",
        "  for i in range(num_iter):\n",
        "    sign_grad_chupa = images.grad.data.sign()\n",
        "    purturbed_image = (images + alpha*sign_grad_chupa).clamp(0, 1)\n",
        "    purturbed_image.requires_grad = True\n",
        "    output = model(purturbed_image)\n",
        "    loss = criterion(output, labels)\n",
        "    loss.backward()\n",
        "    data_grad = purturbed_image.grad.data\n",
        "    purturbed_image.requires_grad = False\n",
        "    image = purturbed_image\n",
        "  return purturbed_image\n"
      ],
      "metadata": {
        "id": "VoJVk0FxYTdo"
      },
      "execution_count": null,
      "outputs": []
    },
    {
      "cell_type": "code",
      "source": [
        "from torch.autograd import grad\n",
        "# import tqdm as tqdm\n",
        "def pgd_attack(model, epsilon, alpha, num_iter):\n",
        "  criterion = nn.CrossEntropyLoss()\n",
        "  model.eval()\n",
        "\n",
        "  acc = 0\n",
        "\n",
        "  for images, labels in (testloader):\n",
        "      images, labels = images.to(device), labels.to(device)\n",
        "      images.requires_grad = True\n",
        "      output = model(images)\n",
        "      loss = criterion(output, labels)\n",
        "      loss.backward()\n",
        "      images.requires_grad = False\n",
        "      grad_chupa = images.grad.data\n",
        "      # Generate the perturbed images using FGSM attack\n",
        "      perturbed_images = pgd(model, images, labels, epsilon, alpha, num_iter, device, grad_chupa)\n",
        "\n",
        "      outputs_after_attack = model(perturbed_images)\n",
        "      acc += accuracy(outputs_after_attack,labels)\n",
        "\n",
        "\n",
        "  # Calculate the accuracy and return the result\n",
        "  acc =  acc / len(testloader)\n",
        "  return acc"
      ],
      "metadata": {
        "id": "xTlOokl0rQXu"
      },
      "execution_count": null,
      "outputs": []
    },
    {
      "cell_type": "code",
      "source": [
        "# epsilons = np.arange(0,0.06,.01)\n",
        "alpha = np.arange(0.01, 0.051, 0.01)\n",
        "accuracies = []\n",
        "accuracies_S = []"
      ],
      "metadata": {
        "id": "mws-sYekzBMT"
      },
      "execution_count": null,
      "outputs": []
    },
    {
      "cell_type": "code",
      "source": [
        "for a in alpha:\n",
        "  acc = pgd_attack(ResNet, 0.05, a, 4)\n",
        "  accuracies.append(acc)\n",
        "  print(acc)"
      ],
      "metadata": {
        "id": "I7YbhxCSzsIG",
        "colab": {
          "base_uri": "https://localhost:8080/"
        },
        "outputId": "c141f340-1176-4964-903f-555f3f14247a"
      },
      "execution_count": null,
      "outputs": [
        {
          "output_type": "stream",
          "name": "stdout",
          "text": [
            "1.2830362630608483\n",
            "0.7260295021511985\n",
            "1.3560233558696988\n",
            "2.308696988322065\n",
            "3.0577750460971114\n"
          ]
        }
      ]
    },
    {
      "cell_type": "code",
      "source": [
        "for a in alpha:\n",
        "  acc = pgd_attack(ShuffleNetV2, 0.05, a, 4)\n",
        "  accuracies_S.append(acc)\n",
        "  print(acc)"
      ],
      "metadata": {
        "id": "x9xWJW3Vrjno",
        "colab": {
          "base_uri": "https://localhost:8080/"
        },
        "outputId": "d6a9c656-e8d8-4d1b-cc99-0f8d825d624f"
      },
      "execution_count": null,
      "outputs": [
        {
          "output_type": "stream",
          "name": "stdout",
          "text": [
            "0.18822987092808852\n",
            "0.3111555009219422\n",
            "0.9065765212046711\n",
            "1.8093116164720344\n",
            "2.7120467117393976\n"
          ]
        }
      ]
    },
    {
      "cell_type": "code",
      "source": [
        "plt.plot(alpha,accuracies,'*-')\n",
        "plt.title(\"Accuracy vs Alpha\")\n",
        "plt.xlabel(\"Alpha\")\n",
        "plt.ylabel(\"Accuracy (%)\")\n",
        "plt.show()"
      ],
      "metadata": {
        "id": "RvHF_9w00wD-",
        "colab": {
          "base_uri": "https://localhost:8080/",
          "height": 295
        },
        "outputId": "6a060fde-f4c7-4feb-b2e9-41eaf009be46"
      },
      "execution_count": null,
      "outputs": [
        {
          "output_type": "display_data",
          "data": {
            "text/plain": [
              "<Figure size 432x288 with 1 Axes>"
            ],
            "image/png": "[encoded data removed]"
          },
          "metadata": {
            "needs_background": "light"
          }
        }
      ]
    },
    {
      "cell_type": "code",
      "source": [
        "plt.plot(alpha,accuracies,'*-')\n",
        "plt.title(\"Accuracy vs Alpha\")\n",
        "plt.xlabel(\"Alpha\")\n",
        "plt.ylabel(\"Accuracy (%)\")\n",
        "plt.show()"
      ],
      "metadata": {
        "id": "yOybNAc218lA",
        "colab": {
          "base_uri": "https://localhost:8080/",
          "height": 295
        },
        "outputId": "3c7adbd1-61c7-4271-e7bb-77dd5cecdab1"
      },
      "execution_count": null,
      "outputs": [
        {
          "output_type": "display_data",
          "data": {
            "text/plain": [
              "<Figure size 432x288 with 1 Axes>"
            ],
            "image/png": "[encoded data removed]"
          },
          "metadata": {
            "needs_background": "light"
          }
        }
      ]
    },
    {
      "cell_type": "markdown",
      "source": [
        "### Mask Attack"
      ],
      "metadata": {
        "id": "ckclMzJUZIGn"
      }
    },
    {
      "cell_type": "code",
      "source": [
        "def create_mask(image):\n",
        "    mask_size=12\n",
        "    x1, y1 = 10, 10\n",
        "    x2, y2 = x1 + mask_size, y1 + mask_size\n",
        "\n",
        "    mask = torch.zeros(image.shape)\n",
        "    mask[:, :, x1:x2, y1:y2] = 1\n",
        "    return mask\n",
        "\n",
        "for sample, label in testloader:\n",
        "    mask = create_mask(sample)\n",
        "    break\n",
        "\n",
        "mask = mask.to(device)"
      ],
      "metadata": {
        "id": "NKemDfud7P9S"
      },
      "execution_count": null,
      "outputs": []
    },
    {
      "cell_type": "code",
      "source": [
        "def masking(image, label, mask, epsilon, data_grad, alpha, iters, model):\n",
        "  criterion = nn.CrossEntropyLoss()\n",
        "  for i in range(iters):\n",
        "      if i==iters-1:\n",
        "          sign_data_grad = (data_grad.sign()*mask)[:,:,10:10+12,10:10+12]\n",
        "          image[:,:,10:10+12,10:10+12] = 0.5*sign_data_grad\n",
        "          perturbed_image = image.clamp(0, 1)\n",
        "      else:\n",
        "          sign_data_grad = data_grad.sign()*mask\n",
        "          perturbed_image = (image + alpha*sign_data_grad).clamp(0, 1)\n",
        "          perturbed_image.requires_grad = True\n",
        "          output = model(perturbed_image)\n",
        "          loss = criterion(output, label)\n",
        "          loss.backward()\n",
        "          data_grad = perturbed_image.grad.data\n",
        "          perturbed_image.requires_grad = False\n",
        "          image = perturbed_image\n",
        "\n",
        "  return perturbed_image"
      ],
      "metadata": {
        "id": "auIWQlVr6ELl"
      },
      "execution_count": null,
      "outputs": []
    },
    {
      "cell_type": "code",
      "source": [
        "def mask_attack(model, epsilon, mask, alpha, num_iter):\n",
        "  criterion = nn.CrossEntropyLoss()\n",
        "  model.eval()\n",
        "\n",
        "  acc = 0\n",
        "\n",
        "  for images, labels in (testloader):\n",
        "      images, labels = images.to(device), labels.to(device)\n",
        "      images.requires_grad = True\n",
        "      output = model(images)\n",
        "      loss = criterion(output, labels)\n",
        "      loss.backward()\n",
        "      images.requires_grad = False\n",
        "      grad = images.grad.data\n",
        "      # Generate the perturbed images using FGSM attack\n",
        "      perturbed_images = masking(images, labels, mask, epsilon, grad, alpha, num_iter, model)\n",
        "\n",
        "      outputs_after_attack = model(perturbed_images)\n",
        "      acc += accuracy(outputs_after_attack,labels)\n",
        "\n",
        "\n",
        "  # Calculate the accuracy and return the result\n",
        "  acc =  acc / len(testloader)\n",
        "  return acc"
      ],
      "metadata": {
        "id": "BU0TUQiD2foS"
      },
      "execution_count": null,
      "outputs": []
    },
    {
      "cell_type": "code",
      "source": [
        "# epsilons = np.arange(0,0.06,.01)\n",
        "alpha = np.arange(0.01, 0.051, 0.01)\n",
        "accuracies = []\n",
        "accuracies_S = []"
      ],
      "metadata": {
        "id": "kjiTpx1B6P1T"
      },
      "execution_count": null,
      "outputs": []
    },
    {
      "cell_type": "code",
      "source": [
        "for a in alpha:\n",
        "  acc = mask_attack(ResNet, 0.05, mask, a, 4)\n",
        "  accuracies.append(acc)\n",
        "  print(acc)"
      ],
      "metadata": {
        "id": "feIVRvvE6P1U",
        "colab": {
          "base_uri": "https://localhost:8080/"
        },
        "outputId": "1623dee0-3a3e-46e7-9b0d-e23a496f6981"
      },
      "execution_count": null,
      "outputs": [
        {
          "output_type": "stream",
          "name": "stdout",
          "text": [
            "9.396127842655194\n",
            "9.653503380454826\n",
            "9.872464658881377\n",
            "9.883988936693301\n",
            "9.47679778733866\n"
          ]
        }
      ]
    },
    {
      "cell_type": "code",
      "source": [
        "for a in alpha:\n",
        "  acc = mask_attack(ShuffleNetV2, 0.05, mask, a, 4)\n",
        "  accuracies_S.append(acc)\n",
        "  print(acc)"
      ],
      "metadata": {
        "id": "r6n-_9iP6P1U",
        "colab": {
          "base_uri": "https://localhost:8080/"
        },
        "outputId": "255932ee-27d3-4810-fcc5-084c2b403977"
      },
      "execution_count": null,
      "outputs": [
        {
          "output_type": "stream",
          "name": "stdout",
          "text": [
            "9.499846342962508\n",
            "9.891671788567917\n",
            "9.853257529194837\n",
            "9.926244622003688\n",
            "9.872464658881377\n"
          ]
        }
      ]
    },
    {
      "cell_type": "code",
      "source": [
        "plt.plot(alpha,accuracies,'*-')\n",
        "plt.title(\"Accuracy vs Alpha\")\n",
        "plt.xlabel(\"Alpha\")\n",
        "plt.ylabel(\"Accuracy (%)\")\n",
        "plt.show()"
      ],
      "metadata": {
        "id": "lvxnp1Ap6P1U",
        "colab": {
          "base_uri": "https://localhost:8080/",
          "height": 295
        },
        "outputId": "cb8d714a-d8fb-4651-e58e-de0370bb3e73"
      },
      "execution_count": null,
      "outputs": [
        {
          "output_type": "display_data",
          "data": {
            "text/plain": [
              "<Figure size 432x288 with 1 Axes>"
            ],
            "image/png": "[encoded data removed]"
          },
          "metadata": {
            "needs_background": "light"
          }
        }
      ]
    },
    {
      "cell_type": "code",
      "source": [
        "plt.plot(alpha,accuracies,'*-')\n",
        "plt.title(\"Accuracy vs Alpha\")\n",
        "plt.xlabel(\"Alpha\")\n",
        "plt.ylabel(\"Accuracy (%)\")\n",
        "plt.show()"
      ],
      "metadata": {
        "id": "FL9c_Ghz6P1U",
        "colab": {
          "base_uri": "https://localhost:8080/",
          "height": 295
        },
        "outputId": "aafa10b3-1d20-4a4f-bdb9-598f22a35416"
      },
      "execution_count": null,
      "outputs": [
        {
          "output_type": "display_data",
          "data": {
            "text/plain": [
              "<Figure size 432x288 with 1 Axes>"
            ],
            "image/png": "[encoded data removed]"
          },
          "metadata": {
            "needs_background": "light"
          }
        }
      ]
    },
    {
      "cell_type": "markdown",
      "source": [
        "## Part 3"
      ],
      "metadata": {
        "id": "pi9lk_i_9sDT"
      }
    },
    {
      "cell_type": "code",
      "source": [
        "class detection(nn.Module):\n",
        "\n",
        "  def __init__(self):\n",
        "    super(detection, self).__init__()\n",
        "    self.conv1 = nn.Conv2d( in_channels = 3, out_channels = 5 ,kernel_size = 3)\n",
        "    self.conv2 = nn.Conv2d( in_channels = 5, out_channels = 7 ,kernel_size = 3)\n",
        "    self.conv3 = nn.Conv2d(in_channels = 7, out_channels = 10 ,kernel_size = 3)\n",
        "\n",
        "    self.pool = nn.MaxPool2d(2,2)\n",
        "\n",
        "    self.fc1 = nn.Linear(1690, 128)\n",
        "    self.fc2 = nn.Linear(128, 2)\n",
        "\n",
        "  def forward(self, x):\n",
        "    x = self.conv1(x)\n",
        "    x = F.relu(x)\n",
        "    x = self.conv2(x)\n",
        "    x = F.relu(x)\n",
        "    x = self.conv3(x)\n",
        "    x = F.relu(x)\n",
        "    x = self.pool(x)\n",
        "    x = torch.flatten(x, 1)\n",
        "    x = self.fc1(x)\n",
        "    x = F.relu(x)\n",
        "    x = self.fc2(x)\n",
        "    output = F.softmax(x, dim=1)\n",
        "    return output\n",
        "\n",
        "detect = detection().to(device)\n",
        "detect"
      ],
      "metadata": {
        "id": "F7OKMcDA9rx2",
        "colab": {
          "base_uri": "https://localhost:8080/"
        },
        "outputId": "600734b4-3808-4867-aa4a-25475e28c5f0"
      },
      "execution_count": null,
      "outputs": [
        {
          "output_type": "execute_result",
          "data": {
            "text/plain": [
              "detection(\n",
              "  (conv1): Conv2d(3, 5, kernel_size=(3, 3), stride=(1, 1))\n",
              "  (conv2): Conv2d(5, 7, kernel_size=(3, 3), stride=(1, 1))\n",
              "  (conv3): Conv2d(7, 10, kernel_size=(3, 3), stride=(1, 1))\n",
              "  (pool): MaxPool2d(kernel_size=2, stride=2, padding=0, dilation=1, ceil_mode=False)\n",
              "  (fc1): Linear(in_features=1690, out_features=128, bias=True)\n",
              "  (fc2): Linear(in_features=128, out_features=2, bias=True)\n",
              ")"
            ]
          },
          "metadata": {},
          "execution_count": 25
        }
      ]
    },
    {
      "cell_type": "code",
      "source": [
        "def detection_checker(model):\n",
        "  criterion = nn.CrossEntropyLoss()\n",
        "  optimizer = optim.Adam(model.parameters(), lr=0.003)\n",
        "\n",
        "  num_epochs = 10\n",
        "  overall_train_error = []\n",
        "  overall_train_acc = []\n",
        "\n",
        "  overall_val_error = []\n",
        "  overall_val_acc = []\n",
        "\n",
        "  for epoch in range(num_epochs):\n",
        "    print('EPOCH :', epoch+1)\n",
        "    epoch_loss = 0\n",
        "    epoch_acc = 0\n",
        "\n",
        "    for images, _ in train_loader:\n",
        "      images = images.to(device)\n",
        "      labels = torch.ones(500).type(torch.LongTensor)\n",
        "      labels = labels.to(device)\n",
        "\n",
        "      optimizer.zero_grad()\n",
        "\n",
        "\n",
        "      images.requires_grad = True                                             # This is done to get data.grad(here images.grad) for generating pertubated images using fgsm function\n",
        "      outputs = model(images)\n",
        "      loss = criterion(outputs, labels)\n",
        "      model.zero_grad()\n",
        "      loss.backward()\n",
        "      optimizer.step()\n",
        "\n",
        "      epoch_loss += loss.item()\n",
        "      epoch_acc += accuracy(outputs,labels)\n",
        "\n",
        "      perturbed_images = fgsm(images, 0.05, images.grad)\n",
        "      outputs_after_attack = model(perturbed_images)\n",
        "\n",
        "      labels_attacked = torch.zeros(500).type(torch.LongTensor)\n",
        "      labels_attacked = labels_attacked.to(device)\n",
        "      loss = criterion(outputs_after_attack, labels_attacked)\n",
        "      model.zero_grad()\n",
        "      loss.backward()\n",
        "      optimizer.step()\n",
        "\n",
        "      epoch_loss += loss.item()\n",
        "      epoch_acc += accuracy(outputs,labels)\n",
        "\n",
        "\n",
        "\n",
        "    overall_train_acc.append(epoch_acc/(2*len(train_loader)))\n",
        "    overall_train_error.append(epoch_loss/(2*len(train_loader)))\n",
        "    print(\"Training loss =\", epoch_loss/(2*len(train_loader)))\n",
        "    print(\"Training accuracy =\", epoch_acc/(2*len(train_loader)))\n",
        "    print()\n",
        "\n",
        "  return overall_train_error, overall_train_acc\n"
      ],
      "metadata": {
        "id": "cfqQPPfR-675"
      },
      "execution_count": null,
      "outputs": []
    },
    {
      "cell_type": "code",
      "source": [
        "detection_train_error, detection_train_acc = detection_checker(detect)"
      ],
      "metadata": {
        "id": "AZNEWcjqBOVd",
        "colab": {
          "base_uri": "https://localhost:8080/"
        },
        "outputId": "b5ec6826-3677-46ac-aaee-f030ef0764cc"
      },
      "execution_count": null,
      "outputs": [
        {
          "output_type": "stream",
          "name": "stdout",
          "text": [
            "EPOCH : 1\n",
            "Training loss = 0.601921526491642\n",
            "Training accuracy = 94.83799999999995\n",
            "\n",
            "EPOCH : 2\n",
            "Training loss = 0.43760463044047354\n",
            "Training accuracy = 99.96999999999994\n",
            "\n",
            "EPOCH : 3\n",
            "Training loss = 0.39010343357920646\n",
            "Training accuracy = 99.98599999999999\n",
            "\n",
            "EPOCH : 4\n",
            "Training loss = 0.36366113170981407\n",
            "Training accuracy = 99.992\n",
            "\n",
            "EPOCH : 5\n",
            "Training loss = 0.3484829519689083\n",
            "Training accuracy = 99.99599999999998\n",
            "\n",
            "EPOCH : 6\n",
            "Training loss = 0.3391911269724369\n",
            "Training accuracy = 99.994\n",
            "\n",
            "EPOCH : 7\n",
            "Training loss = 0.33308213233947753\n",
            "Training accuracy = 99.99799999999999\n",
            "\n",
            "EPOCH : 8\n",
            "Training loss = 0.32894675686955455\n",
            "Training accuracy = 99.99199999999999\n",
            "\n",
            "EPOCH : 9\n",
            "Training loss = 0.32582056686282157\n",
            "Training accuracy = 100.0\n",
            "\n",
            "EPOCH : 10\n",
            "Training loss = 0.3235594627261162\n",
            "Training accuracy = 100.0\n",
            "\n"
          ]
        }
      ]
    },
    {
      "cell_type": "code",
      "source": [
        "def detection_final(model):\n",
        "  criterion = nn.CrossEntropyLoss()\n",
        "  optimizer = optim.Adam(model.parameters(), lr=0.003)\n",
        "\n",
        "  num_epochs = 10\n",
        "  overall_train_error = []\n",
        "  overall_train_acc = []\n",
        "\n",
        "  overall_val_error = []\n",
        "  overall_val_acc = []\n",
        "\n",
        "  epoch_loss = 0\n",
        "  epoch_acc = 0\n",
        "\n",
        "  for images, _ in test_loader:\n",
        "    images = images.to(device)\n",
        "    labels = torch.ones(500).type(torch.LongTensor)\n",
        "    labels = labels.to(device)\n",
        "\n",
        "    optimizer.zero_grad()\n",
        "\n",
        "\n",
        "    images.requires_grad = True                                             # This is done to get data.grad(here images.grad) for generating pertubated images using fgsm function\n",
        "    outputs = model(images)\n",
        "    loss = criterion(outputs, labels)\n",
        "    loss.backward()\n",
        "\n",
        "    epoch_loss += loss.item()\n",
        "    epoch_acc += accuracy(outputs,labels)\n",
        "\n",
        "    perturbed_images = fgsm(images, 0.05, images.grad)\n",
        "    outputs_after_attack = model(perturbed_images)\n",
        "\n",
        "    labels_attacked = torch.zeros(500).type(torch.LongTensor)\n",
        "    labels_attacked = labels_attacked.to(device)\n",
        "    loss = criterion(outputs_after_attack, labels_attacked)\n",
        "\n",
        "    epoch_loss += loss.item()\n",
        "    epoch_acc += accuracy(outputs,labels)\n",
        "\n",
        "  print(\"Testing loss =\", epoch_loss/(2*len(test_loader)))\n",
        "  print(\"Testing accuracy =\", epoch_acc/(2*len(test_loader)))\n",
        "  print()\n",
        "\n",
        "  return epoch_loss/(2*len(test_loader)), epoch_acc/(2*len(test_loader))\n"
      ],
      "metadata": {
        "id": "PRe6r0OLBZPg"
      },
      "execution_count": null,
      "outputs": []
    },
    {
      "cell_type": "code",
      "source": [
        "detection_test_error, detection_test_acc = detection_final(detect)"
      ],
      "metadata": {
        "id": "MnTPWSKcBZLv",
        "colab": {
          "base_uri": "https://localhost:8080/"
        },
        "outputId": "7fe2137d-1ac6-4786-a8db-94f990bb8f4d"
      },
      "execution_count": null,
      "outputs": [
        {
          "output_type": "stream",
          "name": "stdout",
          "text": [
            "Testing loss = 0.3226703375577927\n",
            "Testing accuracy = 99.99\n",
            "\n"
          ]
        }
      ]
    },
    {
      "cell_type": "markdown",
      "source": [
        "# Question 2"
      ],
      "metadata": {
        "id": "maxsXpEBNh9r"
      }
    },
    {
      "cell_type": "code",
      "source": [
        "import copy"
      ],
      "metadata": {
        "id": "vCsVN1sikwvj"
      },
      "execution_count": null,
      "outputs": []
    },
    {
      "cell_type": "code",
      "source": [
        "deepfake_detect = copy.deepcopy(detect)\n",
        "deepfake_detect = deepfake_detect.to(device)"
      ],
      "metadata": {
        "id": "z8yQaFBZkrBj"
      },
      "execution_count": null,
      "outputs": []
    },
    {
      "cell_type": "code",
      "source": [
        "batch_size = 5\n",
        "\n",
        "transform = transforms.Compose([transforms.Resize((32,32)),transforms.ToTensor()])\n",
        "\n",
        "train_dataset_df = torchvision.datasets.ImageFolder(root='/content/drive/MyDrive/DAI/data/train',\n",
        "                                                transform=transform)\n",
        "\n",
        "test_dataset_df = torchvision.datasets.ImageFolder(root='/content/drive/MyDrive/DAI/data/test',\n",
        "                                                transform=transform)\n",
        "\n",
        "train_loader_df = torch.utils.data.DataLoader(dataset=train_dataset_df,\n",
        "                                            batch_size=batch_size,\n",
        "                                            shuffle=True)\n",
        "\n",
        "test_loader_df = torch.utils.data.DataLoader(dataset=test_dataset_df,\n",
        "                                            batch_size=batch_size,\n",
        "                                            shuffle=False)\n",
        "\n",
        "num_classes = 2"
      ],
      "metadata": {
        "id": "Dw9qbYdtVilQ"
      },
      "execution_count": null,
      "outputs": []
    },
    {
      "cell_type": "code",
      "source": [
        "for i,l in train_loader_df:\n",
        "  print(i.shape)\n",
        "  print(l)\n",
        "  break"
      ],
      "metadata": {
        "colab": {
          "base_uri": "https://localhost:8080/"
        },
        "id": "5T6pomBwL4L8",
        "outputId": "419df70a-2eb1-4a3f-eee1-f4d7d7d8b29c"
      },
      "execution_count": null,
      "outputs": [
        {
          "output_type": "stream",
          "name": "stdout",
          "text": [
            "torch.Size([5, 3, 32, 32])\n",
            "tensor([0, 1, 0, 0, 0])\n"
          ]
        }
      ]
    },
    {
      "cell_type": "code",
      "source": [
        "# train = []\n",
        "# test = []\n",
        "\n",
        "\n",
        "# for i in range(1,101):\n",
        "#   if(i%2 == 0):\n",
        "#     img = Image.open(f'/content/drive/MyDrive/DAI/Celebs/{i}.jpg')\n",
        "#     img = img.resize((32,32))\n",
        "#     img = torch.tensor(np.array(img)).float().permute(2, 0, 1)#.unsqueeze(0)\n",
        "\n",
        "#     train.append([img, 0])\n",
        "\n",
        "#     if i not in [18,22,45,99]:\n",
        "#       img = Image.open(f'/content/drive/MyDrive/DAI/Targets/{i}.jpg')\n",
        "#       img = img.resize((32,32))\n",
        "#       img = torch.tensor(np.array(img)).float().permute(2, 0, 1)#.unsqueeze(0)\n",
        "\n",
        "#       train.append([img, 1])\n",
        "\n",
        "#   if(i%2 == 1):\n",
        "#     img = Image.open(f'/content/drive/MyDrive/DAI/Celebs/{i}.jpg')\n",
        "#     img = img.resize((32,32))\n",
        "#     img = torch.tensor(np.array(img)).float().permute(2, 0, 1)#.unsqueeze(0)\n",
        "\n",
        "#     test.append([img, 0])\n",
        "\n",
        "#     if i not in [18,22,45,99]:\n",
        "#       img = Image.open(f'/content/drive/MyDrive/DAI/Targets/{i}.jpg')\n",
        "#       img = img.resize((32,32))\n",
        "#       img = torch.tensor(np.array(img)).float().permute(2, 0, 1)#.unsqueeze(0)\n",
        "\n",
        "#       test.append([img, 1])\n",
        "#   # fakes.append(f'/content/drive/MyDrive/DAI/Targets{i}', 1)\n"
      ],
      "metadata": {
        "id": "zDUFGiFSPWk6"
      },
      "execution_count": null,
      "outputs": []
    },
    {
      "cell_type": "code",
      "source": [
        "def deepfake_checker(model):\n",
        "  criterion = nn.CrossEntropyLoss()\n",
        "  optimizer = optim.Adam(model.parameters(), lr=0.001)\n",
        "\n",
        "  num_epochs = 10\n",
        "  overall_train_error = []\n",
        "  overall_train_acc = []\n",
        "\n",
        "  overall_val_error = []\n",
        "  overall_val_acc = []\n",
        "\n",
        "  for epoch in range(num_epochs):\n",
        "    print('EPOCH :', epoch+1)\n",
        "    epoch_loss = 0\n",
        "    epoch_acc = 0\n",
        "\n",
        "    for images, labels in train_loader_df:\n",
        "      # images = torch.permute(images, (0, 2, 3, 1))1\n",
        "      # print(images.shape)\n",
        "\n",
        "      images = images.to(device)\n",
        "      labels = labels.to(device)\n",
        "\n",
        "      optimizer.zero_grad()\n",
        "\n",
        "      outputs = model(images)\n",
        "      loss = criterion(outputs, labels)\n",
        "      model.zero_grad()\n",
        "      loss.backward()\n",
        "      optimizer.step()\n",
        "\n",
        "      epoch_loss += loss.item()\n",
        "      epoch_acc += accuracy(outputs,labels)\n",
        "\n",
        "\n",
        "\n",
        "    overall_train_acc.append(epoch_acc/(len(train_loader_df)))\n",
        "    overall_train_error.append(epoch_loss/(len(train_loader_df)))\n",
        "    print(\"Training loss =\", epoch_loss/(len(train_loader_df)))\n",
        "    print(\"Training accuracy =\", epoch_acc/(len(train_loader_df)))\n",
        "    print()\n",
        "\n",
        "  return overall_train_error, overall_train_acc\n"
      ],
      "metadata": {
        "id": "FqM0mzZ_Nr3s"
      },
      "execution_count": null,
      "outputs": []
    },
    {
      "cell_type": "code",
      "source": [
        "df_train_error, df_train_acc = deepfake_checker(deepfake_detect)\n"
      ],
      "metadata": {
        "id": "ReiYijrZZxMN",
        "colab": {
          "base_uri": "https://localhost:8080/"
        },
        "outputId": "a7ed44c3-65ee-4c40-e256-d2ca375a0965"
      },
      "execution_count": null,
      "outputs": [
        {
          "output_type": "stream",
          "name": "stdout",
          "text": [
            "EPOCH : 1\n",
            "Training loss = 0.6931972861289978\n",
            "Training accuracy = 41.0\n",
            "\n",
            "EPOCH : 2\n",
            "Training loss = 0.6931581914424896\n",
            "Training accuracy = 47.0\n",
            "\n",
            "EPOCH : 3\n",
            "Training loss = 0.6931008905172348\n",
            "Training accuracy = 52.0\n",
            "\n",
            "EPOCH : 4\n",
            "Training loss = 0.693294009566307\n",
            "Training accuracy = 48.0\n",
            "\n",
            "EPOCH : 5\n",
            "Training loss = 0.6931903034448623\n",
            "Training accuracy = 52.0\n",
            "\n",
            "EPOCH : 6\n",
            "Training loss = 0.6932554960250854\n",
            "Training accuracy = 48.0\n",
            "\n",
            "EPOCH : 7\n",
            "Training loss = 0.6932666420936584\n",
            "Training accuracy = 48.0\n",
            "\n",
            "EPOCH : 8\n",
            "Training loss = 0.6932324469089508\n",
            "Training accuracy = 40.0\n",
            "\n",
            "EPOCH : 9\n",
            "Training loss = 0.6931232124567032\n",
            "Training accuracy = 55.0\n",
            "\n",
            "EPOCH : 10\n",
            "Training loss = 0.6931114703416824\n",
            "Training accuracy = 52.0\n",
            "\n"
          ]
        }
      ]
    },
    {
      "cell_type": "code",
      "source": [
        "plt.plot(range(1,11),df_train_error,'*-')\n",
        "plt.title(\"Loss vs Epoch\")\n",
        "plt.xlabel(\"Epoch\")\n",
        "plt.ylabel(\"Loss\")\n",
        "plt.show()\n",
        "\n",
        "print()\n",
        "\n",
        "plt.plot(range(1,11),df_train_acc,'*-')\n",
        "plt.title(\"Accuracy vs Epoch\")\n",
        "plt.xlabel(\"Epoch\")\n",
        "plt.ylabel(\"Accuracy (%)\")\n",
        "plt.show()"
      ],
      "metadata": {
        "id": "C99_esHgZ-OF",
        "colab": {
          "base_uri": "https://localhost:8080/",
          "height": 590
        },
        "outputId": "15324dbd-67f8-463e-fbfb-381fb57c6bce"
      },
      "execution_count": null,
      "outputs": [
        {
          "output_type": "display_data",
          "data": {
            "text/plain": [
              "<Figure size 432x288 with 1 Axes>"
            ],
            "image/png": "[encoded data removed]"
          },
          "metadata": {
            "needs_background": "light"
          }
        },
        {
          "output_type": "stream",
          "name": "stdout",
          "text": [
            "\n"
          ]
        },
        {
          "output_type": "display_data",
          "data": {
            "text/plain": [
              "<Figure size 432x288 with 1 Axes>"
            ],
            "image/png": "[encoded data removed]"
          },
          "metadata": {
            "needs_background": "light"
          }
        }
      ]
    },
    {
      "cell_type": "code",
      "source": [
        "def deepfake_final(model):\n",
        "  criterion = nn.CrossEntropyLoss()\n",
        "  optimizer = optim.Adam(model.parameters(), lr=0.001)\n",
        "\n",
        "  num_epochs = 10\n",
        "  epoch_loss = 0\n",
        "  epoch_acc = 0\n",
        "  for images, labels in test_loader_df:\n",
        "    # images = torch.permute(images, (0, 2, 3, 1))1\n",
        "    # print(images.shape)\n",
        "\n",
        "    images = images.to(device)\n",
        "    labels = labels.to(device)\n",
        "\n",
        "    optimizer.zero_grad()\n",
        "\n",
        "    outputs = model(images)\n",
        "    loss = criterion(outputs, labels)\n",
        "\n",
        "    epoch_loss += loss.item()\n",
        "    epoch_acc += accuracy(outputs,labels)\n",
        "\n",
        "  print(\"Testing loss =\", epoch_loss/(len(test_loader_df)))\n",
        "  print(\"Testing accuracy =\", epoch_acc/(len(test_loader_df)))\n",
        "  print()\n",
        "\n",
        "  return epoch_loss/(len(test_loader_df)), epoch_acc/(len(test_loader_df))\n"
      ],
      "metadata": {
        "id": "2UN25lNMjMJD"
      },
      "execution_count": null,
      "outputs": []
    },
    {
      "cell_type": "code",
      "source": [
        "test_df_loss , test_df_acc = deepfake_final(deepfake_detect)"
      ],
      "metadata": {
        "colab": {
          "base_uri": "https://localhost:8080/"
        },
        "id": "JirowDyTXK4R",
        "outputId": "2a883545-3cdd-49fa-d9b8-e963c82f7d44"
      },
      "execution_count": null,
      "outputs": [
        {
          "output_type": "stream",
          "name": "stdout",
          "text": [
            "Testing loss = 0.6932058602571487\n",
            "Testing accuracy = 48.0\n",
            "\n"
          ]
        }
      ]
    },
    {
      "cell_type": "code",
      "source": [],
      "metadata": {
        "id": "acq0O6q-XakU"
      },
      "execution_count": null,
      "outputs": []
    }
  ]
}